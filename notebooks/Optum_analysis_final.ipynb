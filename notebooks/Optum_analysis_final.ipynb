{
  "nbformat": 4,
  "nbformat_minor": 0,
  "metadata": {
    "colab": {
      "name": "Optum_analysis_final.ipynb",
      "provenance": []
    },
    "kernelspec": {
      "name": "python3",
      "display_name": "Python 3"
    },
    "language_info": {
      "name": "python"
    }
  },
  "cells": [
    {
      "cell_type": "markdown",
      "metadata": {
        "id": "K3w-V0yIH034"
      },
      "source": [
        "# Adherence or not"
      ]
    },
    {
      "cell_type": "code",
      "metadata": {
        "id": "FJdi2NDLHncy"
      },
      "source": [
        "import pandas as pd\n",
        "import numpy as np\n",
        "import matplotlib.pyplot as plt"
      ],
      "execution_count": null,
      "outputs": []
    },
    {
      "cell_type": "code",
      "metadata": {
        "id": "TEZ7Kc8CH6ZJ"
      },
      "source": [
        "df_master = pd.read_csv(\"/content/master.csv\")"
      ],
      "execution_count": null,
      "outputs": []
    },
    {
      "cell_type": "code",
      "metadata": {
        "id": "mbD9tlLbH-JV"
      },
      "source": [
        "df_master = df_master.drop(columns=[\"Unnamed: 0\"])"
      ],
      "execution_count": null,
      "outputs": []
    },
    {
      "cell_type": "code",
      "metadata": {
        "colab": {
          "base_uri": "https://localhost:8080/"
        },
        "id": "f3tv78BIH_JP",
        "outputId": "aa3ddcf5-9bee-4a32-ea83-542442db58b5"
      },
      "source": [
        "df_master[\"MEDICATION_COUNT\"].describe()"
      ],
      "execution_count": null,
      "outputs": [
        {
          "output_type": "execute_result",
          "data": {
            "text/plain": [
              "count    1171.000000\n",
              "mean       36.711358\n",
              "std       141.420814\n",
              "min         0.000000\n",
              "25%         3.000000\n",
              "50%         7.000000\n",
              "75%        31.000000\n",
              "max      3313.000000\n",
              "Name: MEDICATION_COUNT, dtype: float64"
            ]
          },
          "metadata": {},
          "execution_count": 14
        }
      ]
    },
    {
      "cell_type": "code",
      "metadata": {
        "id": "ukSX-elUITHq"
      },
      "source": [
        "df_master[\"ADHERENCE\"]=df_master[\"MEDICATION_COUNT\"].apply(lambda x: 0 if x>=15 else 1)"
      ],
      "execution_count": null,
      "outputs": []
    },
    {
      "cell_type": "code",
      "metadata": {
        "colab": {
          "base_uri": "https://localhost:8080/"
        },
        "id": "97m9T3Y5I1Kx",
        "outputId": "fa89a28b-6ba9-4d45-bb8b-af450e50505a"
      },
      "source": [
        "df_master[\"ADHERENCE\"].describe()"
      ],
      "execution_count": null,
      "outputs": [
        {
          "output_type": "execute_result",
          "data": {
            "text/plain": [
              "count    1171.000000\n",
              "mean        0.629377\n",
              "std         0.483178\n",
              "min         0.000000\n",
              "25%         0.000000\n",
              "50%         1.000000\n",
              "75%         1.000000\n",
              "max         1.000000\n",
              "Name: ADHERENCE, dtype: float64"
            ]
          },
          "metadata": {},
          "execution_count": 17
        }
      ]
    },
    {
      "cell_type": "code",
      "metadata": {
        "colab": {
          "base_uri": "https://localhost:8080/",
          "height": 478
        },
        "id": "AHbz33KZJr8r",
        "outputId": "3a6b39c5-1f10-444c-dfb9-5de2289ed532"
      },
      "source": [
        "df_master.head()"
      ],
      "execution_count": null,
      "outputs": [
        {
          "output_type": "execute_result",
          "data": {
            "text/html": [
              "<div>\n",
              "<style scoped>\n",
              "    .dataframe tbody tr th:only-of-type {\n",
              "        vertical-align: middle;\n",
              "    }\n",
              "\n",
              "    .dataframe tbody tr th {\n",
              "        vertical-align: top;\n",
              "    }\n",
              "\n",
              "    .dataframe thead th {\n",
              "        text-align: right;\n",
              "    }\n",
              "</style>\n",
              "<table border=\"1\" class=\"dataframe\">\n",
              "  <thead>\n",
              "    <tr style=\"text-align: right;\">\n",
              "      <th></th>\n",
              "      <th>ID</th>\n",
              "      <th>BIRTHYEAR</th>\n",
              "      <th>AGE</th>\n",
              "      <th>MARITAL</th>\n",
              "      <th>RACE</th>\n",
              "      <th>ETHNICITY</th>\n",
              "      <th>GENDER</th>\n",
              "      <th>STATE</th>\n",
              "      <th>CITY</th>\n",
              "      <th>COUNTY</th>\n",
              "      <th>HEALTHCARE_EXPENSES</th>\n",
              "      <th>HEALTHCARE_COVERAGE</th>\n",
              "      <th>MEDICATION_COUNT</th>\n",
              "      <th>ADHERENCE</th>\n",
              "    </tr>\n",
              "  </thead>\n",
              "  <tbody>\n",
              "    <tr>\n",
              "      <th>0</th>\n",
              "      <td>1d604da9-9a81-4ba9-80c2-de3375d59b40</td>\n",
              "      <td>1989</td>\n",
              "      <td>32</td>\n",
              "      <td>M</td>\n",
              "      <td>white</td>\n",
              "      <td>hispanic</td>\n",
              "      <td>M</td>\n",
              "      <td>Massachusetts</td>\n",
              "      <td>Chicopee</td>\n",
              "      <td>Hampden County</td>\n",
              "      <td>271227.08</td>\n",
              "      <td>1334.88</td>\n",
              "      <td>2</td>\n",
              "      <td>1</td>\n",
              "    </tr>\n",
              "    <tr>\n",
              "      <th>1</th>\n",
              "      <td>034e9e3b-2def-4559-bb2a-7850888ae060</td>\n",
              "      <td>1983</td>\n",
              "      <td>38</td>\n",
              "      <td>M</td>\n",
              "      <td>white</td>\n",
              "      <td>nonhispanic</td>\n",
              "      <td>M</td>\n",
              "      <td>Massachusetts</td>\n",
              "      <td>Somerville</td>\n",
              "      <td>Middlesex County</td>\n",
              "      <td>793946.01</td>\n",
              "      <td>3204.49</td>\n",
              "      <td>1</td>\n",
              "      <td>1</td>\n",
              "    </tr>\n",
              "    <tr>\n",
              "      <th>2</th>\n",
              "      <td>10339b10-3cd1-4ac3-ac13-ec26728cb592</td>\n",
              "      <td>1992</td>\n",
              "      <td>29</td>\n",
              "      <td>M</td>\n",
              "      <td>white</td>\n",
              "      <td>nonhispanic</td>\n",
              "      <td>M</td>\n",
              "      <td>Massachusetts</td>\n",
              "      <td>Chicopee</td>\n",
              "      <td>Hampden County</td>\n",
              "      <td>574111.90</td>\n",
              "      <td>2606.40</td>\n",
              "      <td>3</td>\n",
              "      <td>1</td>\n",
              "    </tr>\n",
              "    <tr>\n",
              "      <th>3</th>\n",
              "      <td>8d4c4326-e9de-4f45-9a4c-f8c36bff89ae</td>\n",
              "      <td>1978</td>\n",
              "      <td>43</td>\n",
              "      <td>M</td>\n",
              "      <td>white</td>\n",
              "      <td>nonhispanic</td>\n",
              "      <td>F</td>\n",
              "      <td>Massachusetts</td>\n",
              "      <td>Lowell</td>\n",
              "      <td>Middlesex County</td>\n",
              "      <td>935630.30</td>\n",
              "      <td>8756.19</td>\n",
              "      <td>7</td>\n",
              "      <td>1</td>\n",
              "    </tr>\n",
              "    <tr>\n",
              "      <th>4</th>\n",
              "      <td>f5dcd418-09fe-4a2f-baa0-3da800bd8c3a</td>\n",
              "      <td>1996</td>\n",
              "      <td>25</td>\n",
              "      <td>NaN</td>\n",
              "      <td>white</td>\n",
              "      <td>nonhispanic</td>\n",
              "      <td>M</td>\n",
              "      <td>Massachusetts</td>\n",
              "      <td>Boston</td>\n",
              "      <td>Suffolk County</td>\n",
              "      <td>598763.07</td>\n",
              "      <td>3772.20</td>\n",
              "      <td>1</td>\n",
              "      <td>1</td>\n",
              "    </tr>\n",
              "  </tbody>\n",
              "</table>\n",
              "</div>"
            ],
            "text/plain": [
              "                                     ID  BIRTHYEAR  ...  MEDICATION_COUNT ADHERENCE\n",
              "0  1d604da9-9a81-4ba9-80c2-de3375d59b40       1989  ...                 2         1\n",
              "1  034e9e3b-2def-4559-bb2a-7850888ae060       1983  ...                 1         1\n",
              "2  10339b10-3cd1-4ac3-ac13-ec26728cb592       1992  ...                 3         1\n",
              "3  8d4c4326-e9de-4f45-9a4c-f8c36bff89ae       1978  ...                 7         1\n",
              "4  f5dcd418-09fe-4a2f-baa0-3da800bd8c3a       1996  ...                 1         1\n",
              "\n",
              "[5 rows x 14 columns]"
            ]
          },
          "metadata": {},
          "execution_count": 19
        }
      ]
    },
    {
      "cell_type": "code",
      "metadata": {
        "id": "_jkkihBYTtfE"
      },
      "source": [
        "df_master.to_csv(\"/content/df_master_processed.csv\",index=False)"
      ],
      "execution_count": null,
      "outputs": []
    },
    {
      "cell_type": "markdown",
      "metadata": {
        "id": "eHK9APyFGwFi"
      },
      "source": [
        "# General stuff"
      ]
    },
    {
      "cell_type": "code",
      "metadata": {
        "colab": {
          "base_uri": "https://localhost:8080/"
        },
        "id": "kpSHAP6pGyGF",
        "outputId": "1766605b-03b6-4100-b5cf-4284850a5c2a"
      },
      "source": [
        "print(\"Total heathcare expenses : \",sum(df_master[\"HEALTHCARE_EXPENSES\"]))"
      ],
      "execution_count": null,
      "outputs": [
        {
          "output_type": "stream",
          "name": "stdout",
          "text": [
            "Total heathcare expenses :  895745796.3700001\n"
          ]
        }
      ]
    },
    {
      "cell_type": "code",
      "metadata": {
        "colab": {
          "base_uri": "https://localhost:8080/"
        },
        "id": "jHhDNQjXGx_W",
        "outputId": "aaea576e-285f-4187-eb55-ac3c7cfef8e8"
      },
      "source": [
        "print(\"Total heathcare expenses covered by insurance: \",sum(df_master[\"HEALTHCARE_COVERAGE\"]))"
      ],
      "execution_count": null,
      "outputs": [
        {
          "output_type": "stream",
          "name": "stdout",
          "text": [
            "Total heathcare expenses covered by insurance:  15144235.590000007\n"
          ]
        }
      ]
    },
    {
      "cell_type": "markdown",
      "metadata": {
        "id": "KqMb6kvGM2ws"
      },
      "source": [
        "# AGE vs ADHERENCE "
      ]
    },
    {
      "cell_type": "code",
      "metadata": {
        "id": "T40V1vannktz"
      },
      "source": [
        "df_master =pd.read_csv(\"/content/df_master_processed.csv\")"
      ],
      "execution_count": null,
      "outputs": []
    },
    {
      "cell_type": "code",
      "metadata": {
        "colab": {
          "base_uri": "https://localhost:8080/",
          "height": 478
        },
        "id": "HPNSO0qPouUP",
        "outputId": "823f18ee-809b-46ef-df0d-8b65df43ce36"
      },
      "source": [
        "df_master.head()"
      ],
      "execution_count": null,
      "outputs": [
        {
          "output_type": "execute_result",
          "data": {
            "text/html": [
              "<div>\n",
              "<style scoped>\n",
              "    .dataframe tbody tr th:only-of-type {\n",
              "        vertical-align: middle;\n",
              "    }\n",
              "\n",
              "    .dataframe tbody tr th {\n",
              "        vertical-align: top;\n",
              "    }\n",
              "\n",
              "    .dataframe thead th {\n",
              "        text-align: right;\n",
              "    }\n",
              "</style>\n",
              "<table border=\"1\" class=\"dataframe\">\n",
              "  <thead>\n",
              "    <tr style=\"text-align: right;\">\n",
              "      <th></th>\n",
              "      <th>ID</th>\n",
              "      <th>BIRTHYEAR</th>\n",
              "      <th>AGE</th>\n",
              "      <th>MARITAL</th>\n",
              "      <th>RACE</th>\n",
              "      <th>ETHNICITY</th>\n",
              "      <th>GENDER</th>\n",
              "      <th>STATE</th>\n",
              "      <th>CITY</th>\n",
              "      <th>COUNTY</th>\n",
              "      <th>HEALTHCARE_EXPENSES</th>\n",
              "      <th>HEALTHCARE_COVERAGE</th>\n",
              "      <th>MEDICATION_COUNT</th>\n",
              "      <th>ADHERENCE</th>\n",
              "    </tr>\n",
              "  </thead>\n",
              "  <tbody>\n",
              "    <tr>\n",
              "      <th>0</th>\n",
              "      <td>1d604da9-9a81-4ba9-80c2-de3375d59b40</td>\n",
              "      <td>1989</td>\n",
              "      <td>32</td>\n",
              "      <td>M</td>\n",
              "      <td>white</td>\n",
              "      <td>hispanic</td>\n",
              "      <td>M</td>\n",
              "      <td>Massachusetts</td>\n",
              "      <td>Chicopee</td>\n",
              "      <td>Hampden County</td>\n",
              "      <td>271227.08</td>\n",
              "      <td>1334.88</td>\n",
              "      <td>2</td>\n",
              "      <td>1</td>\n",
              "    </tr>\n",
              "    <tr>\n",
              "      <th>1</th>\n",
              "      <td>034e9e3b-2def-4559-bb2a-7850888ae060</td>\n",
              "      <td>1983</td>\n",
              "      <td>38</td>\n",
              "      <td>M</td>\n",
              "      <td>white</td>\n",
              "      <td>nonhispanic</td>\n",
              "      <td>M</td>\n",
              "      <td>Massachusetts</td>\n",
              "      <td>Somerville</td>\n",
              "      <td>Middlesex County</td>\n",
              "      <td>793946.01</td>\n",
              "      <td>3204.49</td>\n",
              "      <td>1</td>\n",
              "      <td>1</td>\n",
              "    </tr>\n",
              "    <tr>\n",
              "      <th>2</th>\n",
              "      <td>10339b10-3cd1-4ac3-ac13-ec26728cb592</td>\n",
              "      <td>1992</td>\n",
              "      <td>29</td>\n",
              "      <td>M</td>\n",
              "      <td>white</td>\n",
              "      <td>nonhispanic</td>\n",
              "      <td>M</td>\n",
              "      <td>Massachusetts</td>\n",
              "      <td>Chicopee</td>\n",
              "      <td>Hampden County</td>\n",
              "      <td>574111.90</td>\n",
              "      <td>2606.40</td>\n",
              "      <td>3</td>\n",
              "      <td>1</td>\n",
              "    </tr>\n",
              "    <tr>\n",
              "      <th>3</th>\n",
              "      <td>8d4c4326-e9de-4f45-9a4c-f8c36bff89ae</td>\n",
              "      <td>1978</td>\n",
              "      <td>43</td>\n",
              "      <td>M</td>\n",
              "      <td>white</td>\n",
              "      <td>nonhispanic</td>\n",
              "      <td>F</td>\n",
              "      <td>Massachusetts</td>\n",
              "      <td>Lowell</td>\n",
              "      <td>Middlesex County</td>\n",
              "      <td>935630.30</td>\n",
              "      <td>8756.19</td>\n",
              "      <td>7</td>\n",
              "      <td>1</td>\n",
              "    </tr>\n",
              "    <tr>\n",
              "      <th>4</th>\n",
              "      <td>f5dcd418-09fe-4a2f-baa0-3da800bd8c3a</td>\n",
              "      <td>1996</td>\n",
              "      <td>25</td>\n",
              "      <td>NaN</td>\n",
              "      <td>white</td>\n",
              "      <td>nonhispanic</td>\n",
              "      <td>M</td>\n",
              "      <td>Massachusetts</td>\n",
              "      <td>Boston</td>\n",
              "      <td>Suffolk County</td>\n",
              "      <td>598763.07</td>\n",
              "      <td>3772.20</td>\n",
              "      <td>1</td>\n",
              "      <td>1</td>\n",
              "    </tr>\n",
              "  </tbody>\n",
              "</table>\n",
              "</div>"
            ],
            "text/plain": [
              "                                     ID  BIRTHYEAR  ...  MEDICATION_COUNT ADHERENCE\n",
              "0  1d604da9-9a81-4ba9-80c2-de3375d59b40       1989  ...                 2         1\n",
              "1  034e9e3b-2def-4559-bb2a-7850888ae060       1983  ...                 1         1\n",
              "2  10339b10-3cd1-4ac3-ac13-ec26728cb592       1992  ...                 3         1\n",
              "3  8d4c4326-e9de-4f45-9a4c-f8c36bff89ae       1978  ...                 7         1\n",
              "4  f5dcd418-09fe-4a2f-baa0-3da800bd8c3a       1996  ...                 1         1\n",
              "\n",
              "[5 rows x 14 columns]"
            ]
          },
          "metadata": {},
          "execution_count": 7
        }
      ]
    },
    {
      "cell_type": "code",
      "metadata": {
        "colab": {
          "base_uri": "https://localhost:8080/"
        },
        "id": "0yqjEc10I7dV",
        "outputId": "856472cf-b012-461d-e22a-efe18ed49880"
      },
      "source": [
        "# patient distribution according to age\n",
        "total_patients = len(df_master)\n",
        "below_18 = sum(df_master[\"AGE\"]<18)\n",
        "between_18_and_25 = sum(df_master[\"AGE\"]<45)-below_18\n",
        "above_45 = total_patients - sum(df_master[\"AGE\"]<45)\n",
        "print(\"Total Patients - \",total_patients)\n",
        "print(\"Below 18 - \",below_18)\n",
        "print(\"Between 18 and 25 - \",between_18_and_25)\n",
        "print(\"Above 45 - \",above_45)\n",
        "print(\"Sanity check - \",below_18+between_18_and_25+above_45==total_patients)"
      ],
      "execution_count": null,
      "outputs": [
        {
          "output_type": "stream",
          "name": "stderr",
          "text": [
            "2021-11-16 09:42:45.379 NumExpr defaulting to 2 threads.\n"
          ]
        },
        {
          "output_type": "stream",
          "name": "stdout",
          "text": [
            "Total Patients -  1171\n",
            "Below 18 -  218\n",
            "Between 18 and 25 -  396\n",
            "Above 45 -  557\n",
            "Sanity check -  True\n"
          ]
        }
      ]
    },
    {
      "cell_type": "code",
      "metadata": {
        "colab": {
          "base_uri": "https://localhost:8080/"
        },
        "id": "B1PsVxo_MLFG",
        "outputId": "9991b3e5-3db3-4343-c34d-2e2557f6f7b9"
      },
      "source": [
        "# adherence distribution\n",
        "total_adherence = sum(df_master[\"ADHERENCE\"])\n",
        "below_18_adherence = sum(df_master[df_master[\"AGE\"]<18][\"ADHERENCE\"])\n",
        "between_18_and_45_adherence = sum(df_master[df_master[\"AGE\"]<45][\"ADHERENCE\"])-below_18_adherence\n",
        "above_45_adherence = total_adherence - sum(df_master[df_master[\"AGE\"]<45][\"ADHERENCE\"])\n",
        "print(\"Total adherence : \",total_adherence)\n",
        "print(\"below 18 adherence : \",below_18_adherence) \n",
        "print(\"between 18 and 45 adherence : \",between_18_and_45_adherence) \n",
        "print(\"above 45 adherence: \",above_45_adherence) "
      ],
      "execution_count": null,
      "outputs": [
        {
          "output_type": "stream",
          "name": "stdout",
          "text": [
            "Total adherence :  737\n",
            "below 18 adherence :  200\n",
            "between 18 and 45 adherence :  292\n",
            "above 45 adherence:  245\n"
          ]
        }
      ]
    },
    {
      "cell_type": "code",
      "metadata": {
        "colab": {
          "base_uri": "https://localhost:8080/"
        },
        "id": "wOCjIpQ7HPnP",
        "outputId": "360fd046-de3c-44cb-e9b0-0aacddcc7d49"
      },
      "source": [
        "# non-adherence\n",
        "\n",
        "total_nonadherence = total_patients - total_adherence\n",
        "nonadherence_below_18 = below_18 - below_18_adherence\n",
        "nonadherence_between_18_and_45 = between_18_and_25 - between_18_and_45_adherence\n",
        "nonadherence_above_45 = above_45 - above_45_adherence\n",
        "\n",
        "print(\"Total nonadherence : \",total_nonadherence)\n",
        "print(\"below 18 nonadherence : \",nonadherence_below_18) \n",
        "print(\"between 18 and 45 nonadherence : \",nonadherence_between_18_and_45) \n",
        "print(\"above 45 nonadherence: \",nonadherence_above_45) "
      ],
      "execution_count": null,
      "outputs": [
        {
          "output_type": "stream",
          "name": "stdout",
          "text": [
            "Total nonadherence :  434\n",
            "below 18 nonadherence :  18\n",
            "between 18 and 45 nonadherence :  104\n",
            "above 45 nonadherence:  312\n"
          ]
        }
      ]
    },
    {
      "cell_type": "code",
      "metadata": {
        "colab": {
          "base_uri": "https://localhost:8080/",
          "height": 264
        },
        "id": "8NA48csnIqat",
        "outputId": "683f3e8d-9c5a-4d29-e97d-165d82a04d4c"
      },
      "source": [
        "import matplotlib.pyplot as plt\n",
        "import numpy as np\n",
        "\n",
        "def get_pie_chart(label,y,title):\n",
        "  y = np.array(y)\n",
        "  plt.pie(y, labels = label)\n",
        "  plt.title(title)\n",
        "  plt.legend()\n",
        "  plt.show()\n",
        "\n",
        "# Non adherance division among age groups\n",
        "get_pie_chart([\">18\",\"18-45\",\"<45\"],\n",
        "              [nonadherence_below_18,nonadherence_between_18_and_45,nonadherence_above_45],\n",
        "              \"Adherence vs Non-adherence Age-wise\")\n"
      ],
      "execution_count": null,
      "outputs": [
        {
          "output_type": "display_data",
          "data": {
            "image/png": "[encoded data removed]",
            "text/plain": [
              "<Figure size 432x288 with 1 Axes>"
            ]
          },
          "metadata": {}
        }
      ]
    },
    {
      "cell_type": "code",
      "metadata": {
        "colab": {
          "base_uri": "https://localhost:8080/",
          "height": 295
        },
        "id": "d2hAAcJBLT46",
        "outputId": "0f501fcb-6ee9-4f54-d0c9-cf7a51126c82"
      },
      "source": [
        "# bar chart distribution of adherence and non-adherence between different age group\n",
        "X = ['<18','18-45','<45']\n",
        "adh= [below_18_adherence,between_18_and_45_adherence,above_45_adherence]\n",
        "nonadh = [nonadherence_below_18,nonadherence_between_18_and_45,nonadherence_above_45]\n",
        "  \n",
        "X_axis = np.arange(len(X))\n",
        "  \n",
        "plt.bar(X_axis - 0.2, adh, 0.4, label = 'Adherence')\n",
        "plt.bar(X_axis + 0.2, nonadh, 0.4, label = 'Non-adherence')\n",
        "  \n",
        "plt.xticks(X_axis, X)\n",
        "plt.xlabel(\"Age Groups\")\n",
        "plt.ylabel(\"Number of cases\")\n",
        "plt.title(\"Adherence vs Non-adherence Age-wise\")\n",
        "plt.legend()\n",
        "plt.show()"
      ],
      "execution_count": null,
      "outputs": [
        {
          "output_type": "display_data",
          "data": {
            "image/png": "[encoded data removed]",
            "text/plain": [
              "<Figure size 432x288 with 1 Axes>"
            ]
          },
          "metadata": {
            "needs_background": "light"
          }
        }
      ]
    },
    {
      "cell_type": "markdown",
      "metadata": {
        "id": "3i3sqymls0SX"
      },
      "source": [
        "# GENDER VS ADHERENCE"
      ]
    },
    {
      "cell_type": "code",
      "metadata": {
        "colab": {
          "base_uri": "https://localhost:8080/"
        },
        "id": "d6fKKzKfPZpU",
        "outputId": "9d5b4440-961c-44ab-8ab3-f75e7020ca86"
      },
      "source": [
        "df_master[\"GENDER\"].value_counts()"
      ],
      "execution_count": null,
      "outputs": [
        {
          "output_type": "execute_result",
          "data": {
            "text/plain": [
              "F    609\n",
              "M    562\n",
              "Name: GENDER, dtype: int64"
            ]
          },
          "metadata": {},
          "execution_count": 39
        }
      ]
    },
    {
      "cell_type": "code",
      "metadata": {
        "colab": {
          "base_uri": "https://localhost:8080/"
        },
        "id": "5ptQqxFw3Y82",
        "outputId": "103a743e-6c23-4b9c-a4dc-432096a23ba0"
      },
      "source": [
        "total_samples = total_patients - sum(df_master[\"GENDER\"].isnull())\n",
        "total_males = len(df_master[df_master[\"GENDER\"]==\"M\"])\n",
        "total_females = len(df_master[df_master[\"GENDER\"]==\"F\"])\n",
        "male_adherence = sum(df_master[df_master[\"GENDER\"]==\"M\"][\"ADHERENCE\"])\n",
        "female_adherence = sum(df_master[df_master[\"GENDER\"]==\"F\"][\"ADHERENCE\"])\n",
        "male_non_adherence = total_males-male_adherence\n",
        "female_non_adherence = total_females - female_adherence\n",
        "print(\"Total known genders : \",total_samples)\n",
        "print(\"Total non-adherence : \",total_nonadherence)\n",
        "print(\"Total males : \",total_males)\n",
        "print(\"Total females : \",total_females)\n",
        "print(\"Total male non-adherence : \",male_non_adherence)\n",
        "print(\"Total female non-adherence : \",female_non_adherence)\n",
        "print(\"Total male adherence : \",male_adherence)\n",
        "print(\"Total female adherence : \",female_adherence)"
      ],
      "execution_count": null,
      "outputs": [
        {
          "output_type": "stream",
          "name": "stdout",
          "text": [
            "Total known genders :  1171\n",
            "Total non-adherence :  434\n",
            "Total males :  562\n",
            "Total females :  609\n",
            "Total male non-adherence :  214\n",
            "Total female non-adherence :  220\n",
            "Total male adherence :  348\n",
            "Total female adherence :  389\n"
          ]
        }
      ]
    },
    {
      "cell_type": "code",
      "metadata": {
        "colab": {
          "base_uri": "https://localhost:8080/",
          "height": 295
        },
        "id": "xX3le8FiOmdq",
        "outputId": "7bc2d646-d034-413e-a365-10ec0f7b4d34"
      },
      "source": [
        "# bar chart distribution of adherence and non-adherence between different male and female\n",
        "X = ['Male','female']\n",
        "adh= [male_adherence,female_adherence]\n",
        "nonadh = [male_non_adherence,female_non_adherence]\n",
        "  \n",
        "X_axis = np.arange(len(X))\n",
        "  \n",
        "plt.bar(X_axis - 0.2, adh, 0.4, label = 'Adherence')\n",
        "plt.bar(X_axis + 0.2, nonadh, 0.4, label = 'Non-adherence')\n",
        "  \n",
        "plt.xticks(X_axis, X)\n",
        "plt.xlabel(\"Gender\")\n",
        "plt.ylabel(\"Number of cases\")\n",
        "plt.title(\"Adherence vs Non-adherence Gender-wise\")\n",
        "plt.legend()\n",
        "plt.show()"
      ],
      "execution_count": null,
      "outputs": [
        {
          "output_type": "display_data",
          "data": {
            "image/png": "[encoded data removed]",
            "text/plain": [
              "<Figure size 432x288 with 1 Axes>"
            ]
          },
          "metadata": {
            "needs_background": "light"
          }
        }
      ]
    },
    {
      "cell_type": "code",
      "metadata": {
        "colab": {
          "base_uri": "https://localhost:8080/",
          "height": 264
        },
        "id": "cMEFh01pPI_d",
        "outputId": "5328b606-74fa-40c1-ad76-0a5c8dae2666"
      },
      "source": [
        "get_pie_chart([\"male\",\"female\"],[male_non_adherence,female_non_adherence],\"Gender Non-adherence Distribution\")"
      ],
      "execution_count": null,
      "outputs": [
        {
          "output_type": "display_data",
          "data": {
            "image/png": "[encoded data removed]",
            "text/plain": [
              "<Figure size 432x288 with 1 Axes>"
            ]
          },
          "metadata": {}
        }
      ]
    },
    {
      "cell_type": "markdown",
      "metadata": {
        "id": "lj9P02STSJ6w"
      },
      "source": [
        "# MARITAL VS  ADHERENCE"
      ]
    },
    {
      "cell_type": "code",
      "metadata": {
        "colab": {
          "base_uri": "https://localhost:8080/"
        },
        "id": "Vs8y0et3SRfK",
        "outputId": "e16c0474-1423-409a-875f-81021da1fe22"
      },
      "source": [
        "df_master[\"MARITAL\"].value_counts()"
      ],
      "execution_count": null,
      "outputs": [
        {
          "output_type": "execute_result",
          "data": {
            "text/plain": [
              "M    638\n",
              "S    153\n",
              "Name: MARITAL, dtype: int64"
            ]
          },
          "metadata": {},
          "execution_count": 52
        }
      ]
    },
    {
      "cell_type": "code",
      "metadata": {
        "colab": {
          "base_uri": "https://localhost:8080/"
        },
        "id": "5V9ZX57ORK8I",
        "outputId": "6b9c713d-5933-4afa-9c1a-9f8dd6904a42"
      },
      "source": [
        "total_marital = total_patients - sum(df_master[\"MARITAL\"].isnull())\n",
        "married = len(df_master[df_master[\"MARITAL\"]==\"M\"])\n",
        "single = len(df_master[df_master[\"MARITAL\"]==\"S\"])\n",
        "married_adherence = sum(df_master[df_master[\"MARITAL\"]==\"M\"][\"ADHERENCE\"])\n",
        "single_adherence = sum(df_master[df_master[\"MARITAL\"]==\"S\"][\"ADHERENCE\"])\n",
        "married_non_adherence = married-married_adherence\n",
        "single_non_adherence = single - single_adherence\n",
        "print(\"Total known samples : \",total_marital)\n",
        "print(\"Total non-adherence : \",total_nonadherence)\n",
        "print(\"Total married : \",married)\n",
        "print(\"Total single : \",single)\n",
        "print(\"Total married non-adherence : \",married_non_adherence)\n",
        "print(\"Total single non-adherence : \",single_non_adherence)\n",
        "print(\"Total married adherence : \",married_adherence)\n",
        "print(\"Total single adherence : \",single_adherence)"
      ],
      "execution_count": null,
      "outputs": [
        {
          "output_type": "stream",
          "name": "stdout",
          "text": [
            "Total known samples :  791\n",
            "Total non-adherence :  434\n",
            "Total married :  638\n",
            "Total single :  153\n",
            "Total married non-adherence :  312\n",
            "Total single non-adherence :  80\n",
            "Total married adherence :  326\n",
            "Total single adherence :  73\n"
          ]
        }
      ]
    },
    {
      "cell_type": "code",
      "metadata": {
        "colab": {
          "base_uri": "https://localhost:8080/",
          "height": 295
        },
        "id": "fpsDcsDaTGpn",
        "outputId": "6fc8dcb4-790e-44e1-925b-b49e4d3ffb29"
      },
      "source": [
        "# bar chart distribution of adherence and non-adherence between different married and single\n",
        "X = ['married','single']\n",
        "adh= [married_adherence,single_adherence]\n",
        "nonadh = [married_non_adherence,single_non_adherence]\n",
        "  \n",
        "X_axis = np.arange(len(X))\n",
        "  \n",
        "plt.bar(X_axis - 0.2, adh, 0.4, label = 'Adherence')\n",
        "plt.bar(X_axis + 0.2, nonadh, 0.4, label = 'Non-adherence')\n",
        "  \n",
        "plt.xticks(X_axis, X)\n",
        "plt.xlabel(\"Marital\")\n",
        "plt.ylabel(\"Number of cases\")\n",
        "plt.title(\"Adherence vs Non-adherence Marital-wise\")\n",
        "plt.legend()\n",
        "plt.show()"
      ],
      "execution_count": null,
      "outputs": [
        {
          "output_type": "display_data",
          "data": {
            "image/png": "[encoded data removed]",
            "text/plain": [
              "<Figure size 432x288 with 1 Axes>"
            ]
          },
          "metadata": {
            "needs_background": "light"
          }
        }
      ]
    },
    {
      "cell_type": "code",
      "metadata": {
        "colab": {
          "base_uri": "https://localhost:8080/",
          "height": 264
        },
        "id": "dBxg1FlqUEUB",
        "outputId": "29b2d34e-58fd-43fe-c7fb-2f74756f8c43"
      },
      "source": [
        "get_pie_chart([\"married\",\"single\"],[married_non_adherence,single_non_adherence],\"Marital Non-adherence Distribution\")"
      ],
      "execution_count": null,
      "outputs": [
        {
          "output_type": "display_data",
          "data": {
            "image/png": "[encoded data removed]",
            "text/plain": [
              "<Figure size 432x288 with 1 Axes>"
            ]
          },
          "metadata": {}
        }
      ]
    },
    {
      "cell_type": "markdown",
      "metadata": {
        "id": "zcHgyrrJU5cp"
      },
      "source": [
        "# RACE VS ADHERENCE"
      ]
    },
    {
      "cell_type": "code",
      "metadata": {
        "colab": {
          "base_uri": "https://localhost:8080/"
        },
        "id": "zno7HOhJUh7-",
        "outputId": "481916d4-8b90-4807-d0d9-7cfae23635e0"
      },
      "source": [
        "dict(df_master[\"RACE\"].value_counts())"
      ],
      "execution_count": null,
      "outputs": [
        {
          "output_type": "execute_result",
          "data": {
            "text/plain": [
              "{'white': 965, 'black': 101, 'asian': 90, 'native': 13, 'other': 2}"
            ]
          },
          "metadata": {},
          "execution_count": 60
        }
      ]
    },
    {
      "cell_type": "code",
      "metadata": {
        "colab": {
          "base_uri": "https://localhost:8080/"
        },
        "id": "bk9nVs2eW3wg",
        "outputId": "fff791ec-9706-48dc-919c-4220b3f7f735"
      },
      "source": [
        "non_adherence_race = {}\n",
        "adherence_race={}\n",
        "\n",
        "total_race= dict(df_master[\"RACE\"].value_counts())\n",
        "\n",
        "for race in total_race.keys():\n",
        "  adherence_race[race]= sum(df_master[df_master[\"RACE\"]==race][\"ADHERENCE\"])\n",
        "  non_adherence_race[race]=total_race[race]-adherence_race[race]\n",
        "\n",
        "print(\"total race : \",total_race)\n",
        "print(\"total non_adherence_race : \",non_adherence_race)\n",
        "print(\"total adherence_race : \",adherence_race)"
      ],
      "execution_count": null,
      "outputs": [
        {
          "output_type": "stream",
          "name": "stdout",
          "text": [
            "total race :  {'white': 965, 'black': 101, 'asian': 90, 'native': 13, 'other': 2}\n",
            "total non_adherence_race :  {'white': 343, 'black': 43, 'asian': 36, 'native': 11, 'other': 1}\n",
            "total adherence_race :  {'white': 622, 'black': 58, 'asian': 54, 'native': 2, 'other': 1}\n"
          ]
        }
      ]
    },
    {
      "cell_type": "code",
      "metadata": {
        "colab": {
          "base_uri": "https://localhost:8080/",
          "height": 295
        },
        "id": "SRL7-X7sYoBv",
        "outputId": "439a3329-3ea5-4f0e-f5eb-6bd6ef205580"
      },
      "source": [
        "# bar chart distribution of adherence and non-adherence between different races\n",
        "X = list(total_race.keys())\n",
        "adh= list(adherence_race.values())\n",
        "nonadh = list(non_adherence_race.values())\n",
        "  \n",
        "X_axis = np.arange(len(X))\n",
        "  \n",
        "plt.bar(X_axis - 0.2, adh, 0.4, label = 'Adherence')\n",
        "plt.bar(X_axis + 0.2, nonadh, 0.4, label = 'Non-adherence')\n",
        "  \n",
        "plt.xticks(X_axis, X)\n",
        "plt.xlabel(\"Race\")\n",
        "plt.ylabel(\"Number of cases\")\n",
        "plt.title(\"Adherence vs Non-adherence Race-wise\")\n",
        "plt.legend()\n",
        "plt.show()"
      ],
      "execution_count": null,
      "outputs": [
        {
          "output_type": "display_data",
          "data": {
            "image/png": "[encoded data removed]",
            "text/plain": [
              "<Figure size 432x288 with 1 Axes>"
            ]
          },
          "metadata": {
            "needs_background": "light"
          }
        }
      ]
    },
    {
      "cell_type": "code",
      "metadata": {
        "colab": {
          "base_uri": "https://localhost:8080/",
          "height": 264
        },
        "id": "udRZFz2wZQE2",
        "outputId": "026e1410-7d48-4f65-be7f-0affad2d854a"
      },
      "source": [
        "get_pie_chart(list(total_race.keys()),list(non_adherence_race.values()),\"Race-wise Non-Adherence Distribution\")"
      ],
      "execution_count": null,
      "outputs": [
        {
          "output_type": "display_data",
          "data": {
            "image/png": "[encoded data removed]",
            "text/plain": [
              "<Figure size 432x288 with 1 Axes>"
            ]
          },
          "metadata": {}
        }
      ]
    },
    {
      "cell_type": "markdown",
      "metadata": {
        "id": "LhG4sxFAbHPK"
      },
      "source": [
        "# ETHNICITY vs ADHERENCE"
      ]
    },
    {
      "cell_type": "code",
      "metadata": {
        "colab": {
          "base_uri": "https://localhost:8080/"
        },
        "id": "Dr360En7bfmR",
        "outputId": "f624710a-2948-4adb-a322-5715938b119d"
      },
      "source": [
        "df_master[\"ETHNICITY\"].value_counts()"
      ],
      "execution_count": null,
      "outputs": [
        {
          "output_type": "execute_result",
          "data": {
            "text/plain": [
              "nonhispanic    1058\n",
              "hispanic        113\n",
              "Name: ETHNICITY, dtype: int64"
            ]
          },
          "metadata": {},
          "execution_count": 71
        }
      ]
    },
    {
      "cell_type": "code",
      "metadata": {
        "colab": {
          "base_uri": "https://localhost:8080/"
        },
        "id": "6BekwhyGbqMW",
        "outputId": "c68c4089-dd08-4c5c-8229-bc88b4e72363"
      },
      "source": [
        "non_adherence_eth = {}\n",
        "adherence_eth={}\n",
        "\n",
        "total_eth= dict(df_master[\"ETHNICITY\"].value_counts())\n",
        "\n",
        "for eth in total_eth.keys():\n",
        "  adherence_eth[eth]= sum(df_master[df_master[\"ETHNICITY\"]==eth][\"ADHERENCE\"])\n",
        "  non_adherence_eth[eth]=total_eth[eth]-adherence_eth[eth]\n",
        "\n",
        "print(\"total eth : \",total_eth)\n",
        "print(\"total non_adherence_eth : \",non_adherence_eth)\n",
        "print(\"total adherence_eth : \",adherence_eth)"
      ],
      "execution_count": null,
      "outputs": [
        {
          "output_type": "stream",
          "name": "stdout",
          "text": [
            "total eth :  {'nonhispanic': 1058, 'hispanic': 113}\n",
            "total non_adherence_eth :  {'nonhispanic': 403, 'hispanic': 31}\n",
            "total adherence_eth :  {'nonhispanic': 655, 'hispanic': 82}\n"
          ]
        }
      ]
    },
    {
      "cell_type": "code",
      "metadata": {
        "id": "ele1XBtkaH-Y"
      },
      "source": [
        "def show_bar(total,adherence,non_adherence,label):\n",
        "  X = list(total.keys())\n",
        "  adh= list(adherence.values())\n",
        "  nonadh = list(non_adherence.values())\n",
        "  \n",
        "  X_axis = np.arange(len(X))\n",
        "  \n",
        "  plt.bar(X_axis - 0.2, adh, 0.4, label = 'Adherence')\n",
        "  plt.bar(X_axis + 0.2, nonadh, 0.4, label = 'Non-adherence')\n",
        "  \n",
        "  plt.xticks(X_axis, X)\n",
        "  plt.xlabel(label)\n",
        "  plt.ylabel(\"Number of cases\")\n",
        "  plt.title(\"Adherence vs Non-adherence {}-wise\".format(label))\n",
        "  plt.legend()\n",
        "  plt.show()"
      ],
      "execution_count": null,
      "outputs": []
    },
    {
      "cell_type": "code",
      "metadata": {
        "colab": {
          "base_uri": "https://localhost:8080/",
          "height": 295
        },
        "id": "zeukpXDAZtEh",
        "outputId": "929c147c-cded-4cac-84e4-060309d54271"
      },
      "source": [
        "show_bar(total_eth,adherence_eth,non_adherence_eth,\"Ethnicity\")"
      ],
      "execution_count": null,
      "outputs": [
        {
          "output_type": "display_data",
          "data": {
            "image/png": "[encoded data removed]",
            "text/plain": [
              "<Figure size 432x288 with 1 Axes>"
            ]
          },
          "metadata": {
            "needs_background": "light"
          }
        }
      ]
    },
    {
      "cell_type": "code",
      "metadata": {
        "colab": {
          "base_uri": "https://localhost:8080/",
          "height": 264
        },
        "id": "Z7sePl_lcZGs",
        "outputId": "bc255da8-2f0a-4c40-f4b8-52fa0b0f43ae"
      },
      "source": [
        "get_pie_chart(list(total_eth.keys()),list(non_adherence_eth.values()),\"Ethnicity-wise Non-Adherence Distribution\")"
      ],
      "execution_count": null,
      "outputs": [
        {
          "output_type": "display_data",
          "data": {
            "image/png": "[encoded data removed]",
            "text/plain": [
              "<Figure size 432x288 with 1 Axes>"
            ]
          },
          "metadata": {}
        }
      ]
    },
    {
      "cell_type": "markdown",
      "metadata": {
        "id": "miUQoUHIdMsV"
      },
      "source": [
        "# COUNTY VS ADHERENCE"
      ]
    },
    {
      "cell_type": "code",
      "metadata": {
        "id": "tV4oEuYMeNZG"
      },
      "source": [
        "def show_bar(total,adherence,non_adherence,label):\n",
        "  X = list(total.keys())\n",
        "  adh= list(adherence.values())\n",
        "  nonadh = list(non_adherence.values())\n",
        "  \n",
        "  X_axis = np.arange(len(X))\n",
        "  \n",
        "  plt.bar(X_axis - 0.2, adh, 0.4, label = 'Adherence')\n",
        "  plt.bar(X_axis + 0.2, nonadh, 0.4, label = 'Non-adherence')\n",
        "  \n",
        "  plt.xticks(X_axis, X)\n",
        "  plt.xlabel(label)\n",
        "  plt.xticks(rotation=90)\n",
        "  plt.ylabel(\"Number of cases\")\n",
        "  plt.title(\"Adherence vs Non-adherence {}-wise\".format(label))\n",
        "  #plt.legend()\n",
        "  plt.show()"
      ],
      "execution_count": null,
      "outputs": []
    },
    {
      "cell_type": "code",
      "metadata": {
        "id": "Q74MVb7DeNWD"
      },
      "source": [
        "def get_pie_chart(label,y,title):\n",
        "  y = np.array(y)\n",
        "  plt.pie(y, labels = label)\n",
        "  plt.title(title)\n",
        "  #plt.legend()\n",
        "  plt.show()"
      ],
      "execution_count": null,
      "outputs": []
    },
    {
      "cell_type": "code",
      "metadata": {
        "colab": {
          "base_uri": "https://localhost:8080/",
          "height": 698
        },
        "id": "ASzYaj4kc8ss",
        "outputId": "5a764ae4-feb2-47fa-c0ab-d214f18c4240"
      },
      "source": [
        "non_adherence_city = {}\n",
        "adherence_city={}\n",
        "\n",
        "total_city= dict(df_master[\"COUNTY\"].value_counts())\n",
        "\n",
        "for city in total_city.keys():\n",
        "  adherence_city[city]= sum(df_master[df_master[\"COUNTY\"]==city][\"ADHERENCE\"])\n",
        "  non_adherence_city[city]=total_city[city]-adherence_city[city]\n",
        "\n",
        "print(\"total city : \",total_city)\n",
        "print(\"total non_adherence_city : \",non_adherence_city)\n",
        "print(\"total adherence_city : \",adherence_city)\n",
        "\n",
        "show_bar(total_city,adherence_city,non_adherence_city,\"county\")\n",
        "get_pie_chart(list(total_city.keys()),list(non_adherence_city.values()),\"County-wise Non-Adherence Distribution\")"
      ],
      "execution_count": null,
      "outputs": [
        {
          "output_type": "stream",
          "name": "stdout",
          "text": [
            "total city :  {'Middlesex County': 255, 'Worcester County': 150, 'Suffolk County': 132, 'Norfolk County': 128, 'Essex County': 115, 'Bristol County': 105, 'Hampden County': 80, 'Plymouth County': 78, 'Barnstable County': 47, 'Hampshire County': 35, 'Berkshire County': 24, 'Franklin County': 15, 'Dukes County': 5, 'Nantucket County': 2}\n",
            "total non_adherence_city :  {'Middlesex County': 95, 'Worcester County': 52, 'Suffolk County': 45, 'Norfolk County': 50, 'Essex County': 41, 'Bristol County': 37, 'Hampden County': 26, 'Plymouth County': 27, 'Barnstable County': 25, 'Hampshire County': 17, 'Berkshire County': 8, 'Franklin County': 6, 'Dukes County': 4, 'Nantucket County': 1}\n",
            "total adherence_city :  {'Middlesex County': 160, 'Worcester County': 98, 'Suffolk County': 87, 'Norfolk County': 78, 'Essex County': 74, 'Bristol County': 68, 'Hampden County': 54, 'Plymouth County': 51, 'Barnstable County': 22, 'Hampshire County': 18, 'Berkshire County': 16, 'Franklin County': 9, 'Dukes County': 1, 'Nantucket County': 1}\n"
          ]
        },
        {
          "output_type": "display_data",
          "data": {
            "image/png": "[encoded data removed]",
            "text/plain": [
              "<Figure size 432x288 with 1 Axes>"
            ]
          },
          "metadata": {
            "needs_background": "light"
          }
        },
        {
          "output_type": "display_data",
          "data": {
            "image/png": "[encoded data removed]",
            "text/plain": [
              "<Figure size 432x288 with 1 Axes>"
            ]
          },
          "metadata": {}
        }
      ]
    },
    {
      "cell_type": "code",
      "metadata": {
        "colab": {
          "base_uri": "https://localhost:8080/",
          "height": 945
        },
        "id": "uM75aCufdxpy",
        "outputId": "a62d7d44-10e6-48c6-c1aa-fb1d7baa0339"
      },
      "source": [
        "df_master"
      ],
      "execution_count": null,
      "outputs": [
        {
          "output_type": "execute_result",
          "data": {
            "text/html": [
              "<div>\n",
              "<style scoped>\n",
              "    .dataframe tbody tr th:only-of-type {\n",
              "        vertical-align: middle;\n",
              "    }\n",
              "\n",
              "    .dataframe tbody tr th {\n",
              "        vertical-align: top;\n",
              "    }\n",
              "\n",
              "    .dataframe thead th {\n",
              "        text-align: right;\n",
              "    }\n",
              "</style>\n",
              "<table border=\"1\" class=\"dataframe\">\n",
              "  <thead>\n",
              "    <tr style=\"text-align: right;\">\n",
              "      <th></th>\n",
              "      <th>ID</th>\n",
              "      <th>BIRTHYEAR</th>\n",
              "      <th>AGE</th>\n",
              "      <th>MARITAL</th>\n",
              "      <th>RACE</th>\n",
              "      <th>ETHNICITY</th>\n",
              "      <th>GENDER</th>\n",
              "      <th>STATE</th>\n",
              "      <th>CITY</th>\n",
              "      <th>COUNTY</th>\n",
              "      <th>HEALTHCARE_EXPENSES</th>\n",
              "      <th>HEALTHCARE_COVERAGE</th>\n",
              "      <th>MEDICATION_COUNT</th>\n",
              "      <th>ADHERENCE</th>\n",
              "    </tr>\n",
              "  </thead>\n",
              "  <tbody>\n",
              "    <tr>\n",
              "      <th>0</th>\n",
              "      <td>1d604da9-9a81-4ba9-80c2-de3375d59b40</td>\n",
              "      <td>1989</td>\n",
              "      <td>32</td>\n",
              "      <td>M</td>\n",
              "      <td>white</td>\n",
              "      <td>hispanic</td>\n",
              "      <td>M</td>\n",
              "      <td>Massachusetts</td>\n",
              "      <td>Chicopee</td>\n",
              "      <td>Hampden County</td>\n",
              "      <td>271227.08</td>\n",
              "      <td>1334.88</td>\n",
              "      <td>2</td>\n",
              "      <td>1</td>\n",
              "    </tr>\n",
              "    <tr>\n",
              "      <th>1</th>\n",
              "      <td>034e9e3b-2def-4559-bb2a-7850888ae060</td>\n",
              "      <td>1983</td>\n",
              "      <td>38</td>\n",
              "      <td>M</td>\n",
              "      <td>white</td>\n",
              "      <td>nonhispanic</td>\n",
              "      <td>M</td>\n",
              "      <td>Massachusetts</td>\n",
              "      <td>Somerville</td>\n",
              "      <td>Middlesex County</td>\n",
              "      <td>793946.01</td>\n",
              "      <td>3204.49</td>\n",
              "      <td>1</td>\n",
              "      <td>1</td>\n",
              "    </tr>\n",
              "    <tr>\n",
              "      <th>2</th>\n",
              "      <td>10339b10-3cd1-4ac3-ac13-ec26728cb592</td>\n",
              "      <td>1992</td>\n",
              "      <td>29</td>\n",
              "      <td>M</td>\n",
              "      <td>white</td>\n",
              "      <td>nonhispanic</td>\n",
              "      <td>M</td>\n",
              "      <td>Massachusetts</td>\n",
              "      <td>Chicopee</td>\n",
              "      <td>Hampden County</td>\n",
              "      <td>574111.90</td>\n",
              "      <td>2606.40</td>\n",
              "      <td>3</td>\n",
              "      <td>1</td>\n",
              "    </tr>\n",
              "    <tr>\n",
              "      <th>3</th>\n",
              "      <td>8d4c4326-e9de-4f45-9a4c-f8c36bff89ae</td>\n",
              "      <td>1978</td>\n",
              "      <td>43</td>\n",
              "      <td>M</td>\n",
              "      <td>white</td>\n",
              "      <td>nonhispanic</td>\n",
              "      <td>F</td>\n",
              "      <td>Massachusetts</td>\n",
              "      <td>Lowell</td>\n",
              "      <td>Middlesex County</td>\n",
              "      <td>935630.30</td>\n",
              "      <td>8756.19</td>\n",
              "      <td>7</td>\n",
              "      <td>1</td>\n",
              "    </tr>\n",
              "    <tr>\n",
              "      <th>4</th>\n",
              "      <td>f5dcd418-09fe-4a2f-baa0-3da800bd8c3a</td>\n",
              "      <td>1996</td>\n",
              "      <td>25</td>\n",
              "      <td>NaN</td>\n",
              "      <td>white</td>\n",
              "      <td>nonhispanic</td>\n",
              "      <td>M</td>\n",
              "      <td>Massachusetts</td>\n",
              "      <td>Boston</td>\n",
              "      <td>Suffolk County</td>\n",
              "      <td>598763.07</td>\n",
              "      <td>3772.20</td>\n",
              "      <td>1</td>\n",
              "      <td>1</td>\n",
              "    </tr>\n",
              "    <tr>\n",
              "      <th>...</th>\n",
              "      <td>...</td>\n",
              "      <td>...</td>\n",
              "      <td>...</td>\n",
              "      <td>...</td>\n",
              "      <td>...</td>\n",
              "      <td>...</td>\n",
              "      <td>...</td>\n",
              "      <td>...</td>\n",
              "      <td>...</td>\n",
              "      <td>...</td>\n",
              "      <td>...</td>\n",
              "      <td>...</td>\n",
              "      <td>...</td>\n",
              "      <td>...</td>\n",
              "    </tr>\n",
              "    <tr>\n",
              "      <th>1166</th>\n",
              "      <td>023a7d29-32b3-4db5-89c8-b88bd7582ec0</td>\n",
              "      <td>1922</td>\n",
              "      <td>99</td>\n",
              "      <td>M</td>\n",
              "      <td>asian</td>\n",
              "      <td>hispanic</td>\n",
              "      <td>F</td>\n",
              "      <td>Massachusetts</td>\n",
              "      <td>Cambridge</td>\n",
              "      <td>Middlesex County</td>\n",
              "      <td>1622314.87</td>\n",
              "      <td>32086.31</td>\n",
              "      <td>172</td>\n",
              "      <td>0</td>\n",
              "    </tr>\n",
              "    <tr>\n",
              "      <th>1167</th>\n",
              "      <td>1fc8dafd-90e5-44d6-9179-81156c0ea083</td>\n",
              "      <td>1977</td>\n",
              "      <td>44</td>\n",
              "      <td>S</td>\n",
              "      <td>white</td>\n",
              "      <td>nonhispanic</td>\n",
              "      <td>M</td>\n",
              "      <td>Massachusetts</td>\n",
              "      <td>Beverly</td>\n",
              "      <td>Essex County</td>\n",
              "      <td>979724.25</td>\n",
              "      <td>3130.52</td>\n",
              "      <td>1</td>\n",
              "      <td>1</td>\n",
              "    </tr>\n",
              "    <tr>\n",
              "      <th>1168</th>\n",
              "      <td>6d048a56-edb8-4f29-891d-7a84d75a8e78</td>\n",
              "      <td>1914</td>\n",
              "      <td>92</td>\n",
              "      <td>S</td>\n",
              "      <td>white</td>\n",
              "      <td>nonhispanic</td>\n",
              "      <td>F</td>\n",
              "      <td>Massachusetts</td>\n",
              "      <td>Norwood</td>\n",
              "      <td>Norfolk County</td>\n",
              "      <td>1560540.35</td>\n",
              "      <td>52391.24</td>\n",
              "      <td>200</td>\n",
              "      <td>0</td>\n",
              "    </tr>\n",
              "    <tr>\n",
              "      <th>1169</th>\n",
              "      <td>fca3178e-fb68-41c3-8598-702d3ca68b96</td>\n",
              "      <td>1914</td>\n",
              "      <td>76</td>\n",
              "      <td>M</td>\n",
              "      <td>white</td>\n",
              "      <td>nonhispanic</td>\n",
              "      <td>F</td>\n",
              "      <td>Massachusetts</td>\n",
              "      <td>Norwood</td>\n",
              "      <td>Norfolk County</td>\n",
              "      <td>1375833.47</td>\n",
              "      <td>13157.00</td>\n",
              "      <td>6</td>\n",
              "      <td>1</td>\n",
              "    </tr>\n",
              "    <tr>\n",
              "      <th>1170</th>\n",
              "      <td>fc817953-cc8b-45db-9c85-7c0ced8fa90d</td>\n",
              "      <td>1914</td>\n",
              "      <td>107</td>\n",
              "      <td>M</td>\n",
              "      <td>white</td>\n",
              "      <td>nonhispanic</td>\n",
              "      <td>F</td>\n",
              "      <td>Massachusetts</td>\n",
              "      <td>Norwood</td>\n",
              "      <td>Norfolk County</td>\n",
              "      <td>1510158.34</td>\n",
              "      <td>26565.65</td>\n",
              "      <td>0</td>\n",
              "      <td>1</td>\n",
              "    </tr>\n",
              "  </tbody>\n",
              "</table>\n",
              "<p>1171 rows × 14 columns</p>\n",
              "</div>"
            ],
            "text/plain": [
              "                                        ID  ...  ADHERENCE\n",
              "0     1d604da9-9a81-4ba9-80c2-de3375d59b40  ...          1\n",
              "1     034e9e3b-2def-4559-bb2a-7850888ae060  ...          1\n",
              "2     10339b10-3cd1-4ac3-ac13-ec26728cb592  ...          1\n",
              "3     8d4c4326-e9de-4f45-9a4c-f8c36bff89ae  ...          1\n",
              "4     f5dcd418-09fe-4a2f-baa0-3da800bd8c3a  ...          1\n",
              "...                                    ...  ...        ...\n",
              "1166  023a7d29-32b3-4db5-89c8-b88bd7582ec0  ...          0\n",
              "1167  1fc8dafd-90e5-44d6-9179-81156c0ea083  ...          1\n",
              "1168  6d048a56-edb8-4f29-891d-7a84d75a8e78  ...          0\n",
              "1169  fca3178e-fb68-41c3-8598-702d3ca68b96  ...          1\n",
              "1170  fc817953-cc8b-45db-9c85-7c0ced8fa90d  ...          1\n",
              "\n",
              "[1171 rows x 14 columns]"
            ]
          },
          "metadata": {},
          "execution_count": 84
        }
      ]
    },
    {
      "cell_type": "code",
      "metadata": {
        "id": "3fspEhYvfCP-"
      },
      "source": [
        ""
      ],
      "execution_count": null,
      "outputs": []
    }
  ]
}