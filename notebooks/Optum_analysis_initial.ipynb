{
  "nbformat": 4,
  "nbformat_minor": 0,
  "metadata": {
    "colab": {
      "name": "Optum_analysis_initial.ipynb",
      "provenance": []
    },
    "kernelspec": {
      "name": "python3",
      "display_name": "Python 3"
    },
    "language_info": {
      "name": "python"
    }
  },
  "cells": [
    {
      "cell_type": "markdown",
      "metadata": {
        "id": "SFr15-WpYMag"
      },
      "source": [
        "# Setting things up"
      ]
    },
    {
      "cell_type": "code",
      "metadata": {
        "colab": {
          "base_uri": "https://localhost:8080/"
        },
        "id": "hJ5qeHEyTxmD",
        "outputId": "00ea156e-83e2-4939-be66-7f98e87e64ef"
      },
      "source": [
        "from google.colab import drive\n",
        "drive.mount('/content/drive')"
      ],
      "execution_count": null,
      "outputs": [
        {
          "output_type": "stream",
          "name": "stdout",
          "text": [
            "Mounted at /content/drive\n"
          ]
        }
      ]
    },
    {
      "cell_type": "code",
      "metadata": {
        "id": "5lZ7Q5TwUMLu"
      },
      "source": [
        "import pandas as pd\n",
        "import numpy as np\n",
        "import matplotlib.pyplot as plt"
      ],
      "execution_count": null,
      "outputs": []
    },
    {
      "cell_type": "markdown",
      "metadata": {
        "id": "AiGp6P4LYS9-"
      },
      "source": [
        "# Allergies.csv\n",
        "\n",
        "Parameters :\n",
        "\n",
        "START = The date the allergy was diagnosed.\n",
        "\n",
        "STOP = The date the allergy ended, if applicable.\n",
        "\n",
        "PATIENT = Foreign key to the Patient. (Consider it as an ID)\n",
        "\n",
        "ENCOUNTER = Foreign key to the Encounter when the allergy was diagnosed.\n",
        "\n",
        "CODE = Allergy code from SNOMED-CT (SNOMED-CT provides code to medical terms)\n",
        "\n",
        "DESCRIPTION = Description of the Allergy"
      ]
    },
    {
      "cell_type": "code",
      "metadata": {
        "colab": {
          "base_uri": "https://localhost:8080/",
          "height": 203
        },
        "id": "nNW_AqWSYSWm",
        "outputId": "c63f95cc-1510-4ab9-b94e-96f7a0b65d59"
      },
      "source": [
        "# peeking into allergies\n",
        "df_allergies = pd.read_csv(\"/content/drive/MyDrive/csv/allergies.csv\")\n",
        "df_allergies.head()"
      ],
      "execution_count": null,
      "outputs": [
        {
          "output_type": "execute_result",
          "data": {
            "text/html": [
              "<div>\n",
              "<style scoped>\n",
              "    .dataframe tbody tr th:only-of-type {\n",
              "        vertical-align: middle;\n",
              "    }\n",
              "\n",
              "    .dataframe tbody tr th {\n",
              "        vertical-align: top;\n",
              "    }\n",
              "\n",
              "    .dataframe thead th {\n",
              "        text-align: right;\n",
              "    }\n",
              "</style>\n",
              "<table border=\"1\" class=\"dataframe\">\n",
              "  <thead>\n",
              "    <tr style=\"text-align: right;\">\n",
              "      <th></th>\n",
              "      <th>START</th>\n",
              "      <th>STOP</th>\n",
              "      <th>PATIENT</th>\n",
              "      <th>ENCOUNTER</th>\n",
              "      <th>CODE</th>\n",
              "      <th>DESCRIPTION</th>\n",
              "    </tr>\n",
              "  </thead>\n",
              "  <tbody>\n",
              "    <tr>\n",
              "      <th>0</th>\n",
              "      <td>1982-10-25</td>\n",
              "      <td>NaN</td>\n",
              "      <td>76982e06-f8b8-4509-9ca3-65a99c8650fe</td>\n",
              "      <td>b896bf40-8b72-42b7-b205-142ee3a56b55</td>\n",
              "      <td>300916003</td>\n",
              "      <td>Latex allergy</td>\n",
              "    </tr>\n",
              "    <tr>\n",
              "      <th>1</th>\n",
              "      <td>1982-10-25</td>\n",
              "      <td>NaN</td>\n",
              "      <td>76982e06-f8b8-4509-9ca3-65a99c8650fe</td>\n",
              "      <td>b896bf40-8b72-42b7-b205-142ee3a56b55</td>\n",
              "      <td>300913006</td>\n",
              "      <td>Shellfish allergy</td>\n",
              "    </tr>\n",
              "    <tr>\n",
              "      <th>2</th>\n",
              "      <td>2002-01-25</td>\n",
              "      <td>NaN</td>\n",
              "      <td>71ba0469-f0cc-4177-ac70-ea07cb01c8b8</td>\n",
              "      <td>7be1a590-4239-4826-9872-031327f3c368</td>\n",
              "      <td>419474003</td>\n",
              "      <td>Allergy to mould</td>\n",
              "    </tr>\n",
              "    <tr>\n",
              "      <th>3</th>\n",
              "      <td>2002-01-25</td>\n",
              "      <td>NaN</td>\n",
              "      <td>71ba0469-f0cc-4177-ac70-ea07cb01c8b8</td>\n",
              "      <td>7be1a590-4239-4826-9872-031327f3c368</td>\n",
              "      <td>232347008</td>\n",
              "      <td>Dander (animal) allergy</td>\n",
              "    </tr>\n",
              "    <tr>\n",
              "      <th>4</th>\n",
              "      <td>2002-01-25</td>\n",
              "      <td>NaN</td>\n",
              "      <td>71ba0469-f0cc-4177-ac70-ea07cb01c8b8</td>\n",
              "      <td>7be1a590-4239-4826-9872-031327f3c368</td>\n",
              "      <td>418689008</td>\n",
              "      <td>Allergy to grass pollen</td>\n",
              "    </tr>\n",
              "  </tbody>\n",
              "</table>\n",
              "</div>"
            ],
            "text/plain": [
              "        START STOP  ...       CODE              DESCRIPTION\n",
              "0  1982-10-25  NaN  ...  300916003            Latex allergy\n",
              "1  1982-10-25  NaN  ...  300913006        Shellfish allergy\n",
              "2  2002-01-25  NaN  ...  419474003         Allergy to mould\n",
              "3  2002-01-25  NaN  ...  232347008  Dander (animal) allergy\n",
              "4  2002-01-25  NaN  ...  418689008  Allergy to grass pollen\n",
              "\n",
              "[5 rows x 6 columns]"
            ]
          },
          "metadata": {},
          "execution_count": 3
        }
      ]
    },
    {
      "cell_type": "code",
      "metadata": {
        "colab": {
          "base_uri": "https://localhost:8080/"
        },
        "id": "RKoyvRcYYhvX",
        "outputId": "bebad6aa-7be6-4e51-f187-9384e210596a"
      },
      "source": [
        "print(df_allergies.count())\n",
        "print(\"The length of allergies file:\",len(df_allergies))\n",
        "# inference -- only 64 has the end dates\n",
        "# 597 samples "
      ],
      "execution_count": null,
      "outputs": [
        {
          "output_type": "stream",
          "name": "stdout",
          "text": [
            "START          597\n",
            "STOP            64\n",
            "PATIENT        597\n",
            "ENCOUNTER      597\n",
            "CODE           597\n",
            "DESCRIPTION    597\n",
            "dtype: int64\n",
            "The length of allergies file: 597\n"
          ]
        }
      ]
    },
    {
      "cell_type": "code",
      "metadata": {
        "colab": {
          "base_uri": "https://localhost:8080/"
        },
        "id": "TFVUCmSNZ9Pk",
        "outputId": "272cfac2-8102-4a3e-9427-d0afbf8f6c5c"
      },
      "source": [
        "# peeking insights in allergies\n",
        "allergies = list(df_allergies[\"DESCRIPTION\"].unique())\n",
        "num_allergies = len(allergies)\n",
        "print(\"Number of allergies : \", num_allergies)\n",
        "print(\"\\n\".join(allergies))"
      ],
      "execution_count": null,
      "outputs": [
        {
          "output_type": "stream",
          "name": "stdout",
          "text": [
            "Number of allergies :  15\n",
            "Latex allergy\n",
            "Shellfish allergy\n",
            "Allergy to mould\n",
            "Dander (animal) allergy\n",
            "Allergy to grass pollen\n",
            "Allergy to tree pollen\n",
            "Allergy to soya\n",
            "Allergy to fish\n",
            "House dust mite allergy\n",
            "Allergy to eggs\n",
            "Allergy to wheat\n",
            "Allergy to peanuts\n",
            "Allergy to dairy product\n",
            "Allergy to nut\n",
            "Allergy to bee venom\n"
          ]
        }
      ]
    },
    {
      "cell_type": "code",
      "metadata": {
        "colab": {
          "base_uri": "https://localhost:8080/",
          "height": 375
        },
        "id": "TvT63JeCcdL0",
        "outputId": "aacb6eec-126f-4baa-83c9-1beeb7f24cce"
      },
      "source": [
        "# distribution in allergies\n",
        "allergies_distribution = dict(df_allergies[\"DESCRIPTION\"].value_counts())\n",
        "plt.bar(range(len(allergies_distribution)),list(allergies_distribution.values()),tick_label=list(allergies_distribution.keys()))\n",
        "plt.xticks(rotation=90)\n",
        "plt.show()"
      ],
      "execution_count": null,
      "outputs": [
        {
          "output_type": "display_data",
          "data": {
            "image/png": "[encoded data removed]",
            "text/plain": [
              "<Figure size 432x288 with 1 Axes>"
            ]
          },
          "metadata": {
            "needs_background": "light"
          }
        }
      ]
    },
    {
      "cell_type": "code",
      "metadata": {
        "colab": {
          "base_uri": "https://localhost:8080/"
        },
        "id": "WFUSC4cufoZj",
        "outputId": "aeb79434-0fb3-4e14-c77e-5e92b3a5ddc0"
      },
      "source": [
        "# patient and there distribution -- it seems same patient can have multiple allergies\n",
        "allergy_patients = list(df_allergies[\"PATIENT\"].unique())\n",
        "print(\"Number of Unique patients : \", len(allergy_patients))"
      ],
      "execution_count": null,
      "outputs": [
        {
          "output_type": "stream",
          "name": "stdout",
          "text": [
            "Number of Unique patients :  141\n"
          ]
        }
      ]
    },
    {
      "cell_type": "code",
      "metadata": {
        "colab": {
          "base_uri": "https://localhost:8080/"
        },
        "id": "87tYsYrug-rC",
        "outputId": "180f2e04-46ee-4b61-e7c5-08030f855e85"
      },
      "source": [
        "# so we take a peak into a simple patient and it has these two allergies proving the above point\n",
        "print(df_allergies[df_allergies[\"PATIENT\"]==df_allergies[\"PATIENT\"][0]][\"DESCRIPTION\"])"
      ],
      "execution_count": null,
      "outputs": [
        {
          "output_type": "stream",
          "name": "stdout",
          "text": [
            "0        Latex allergy\n",
            "1    Shellfish allergy\n",
            "Name: DESCRIPTION, dtype: object\n"
          ]
        }
      ]
    },
    {
      "cell_type": "code",
      "metadata": {
        "colab": {
          "base_uri": "https://localhost:8080/"
        },
        "id": "1I-b1rKFhppT",
        "outputId": "7b1eb645-b774-46dc-a005-7c7557dcf44e"
      },
      "source": [
        "# let's finally conclude this file by seeing what does encounter reveal us , it should be unique\n",
        "allergy_encounter = list(df_allergies[\"ENCOUNTER\"].unique())\n",
        "print(\"Number of Unique patients : \", len(allergy_encounter))"
      ],
      "execution_count": null,
      "outputs": [
        {
          "output_type": "stream",
          "name": "stdout",
          "text": [
            "Number of Unique patients :  141\n"
          ]
        }
      ]
    },
    {
      "cell_type": "code",
      "metadata": {
        "colab": {
          "base_uri": "https://localhost:8080/"
        },
        "id": "ssCt3FOuh9cE",
        "outputId": "9fdecf16-39b9-42f4-c613-35425846d079"
      },
      "source": [
        "print(df_allergies[df_allergies[\"PATIENT\"]==df_allergies[\"PATIENT\"][0]][\"ENCOUNTER\"])\n",
        "# nope -- not unique meaning a patient was diagnosed all these allergies on a single visit \n",
        "# but it could be possible that for a particular patient the allergies will be encountered at different moments in time"
      ],
      "execution_count": null,
      "outputs": [
        {
          "output_type": "stream",
          "name": "stdout",
          "text": [
            "0    b896bf40-8b72-42b7-b205-142ee3a56b55\n",
            "1    b896bf40-8b72-42b7-b205-142ee3a56b55\n",
            "Name: ENCOUNTER, dtype: object\n"
          ]
        }
      ]
    },
    {
      "cell_type": "markdown",
      "metadata": {
        "id": "p3lMkgQ2fhIh"
      },
      "source": [
        "Careplans.csv has no role to play as it seems , let's see conditions.csv\n",
        "\n",
        "# Conditions.csv -- diagnoses of the patient\n",
        "\n",
        "Parameters :\n",
        "\n",
        "START = The date the condition was diagnosed.\n",
        "\n",
        "STOP = The date the condition resolved, if applicable.\n",
        "\n",
        "PATIENT = Foreign key to the Patient.\n",
        "\n",
        "ENCOUNTER = Foreign key to the Encounter when the condition was diagnosed.\n",
        "\n",
        "CODE =  Diagnosis code from SNOMED-CT\n",
        "\n",
        "DESCRIPTION = Description of the condition.\n"
      ]
    },
    {
      "cell_type": "code",
      "metadata": {
        "colab": {
          "base_uri": "https://localhost:8080/",
          "height": 203
        },
        "id": "lNP9HBIEaJk-",
        "outputId": "f05092b8-b8da-4b79-9739-18a7fe4cdd5e"
      },
      "source": [
        "# Peak into the data\n",
        "df_conditions = pd.read_csv(\"/content/drive/MyDrive/csv/conditions.csv\")\n",
        "df_conditions.head()"
      ],
      "execution_count": null,
      "outputs": [
        {
          "output_type": "execute_result",
          "data": {
            "text/html": [
              "<div>\n",
              "<style scoped>\n",
              "    .dataframe tbody tr th:only-of-type {\n",
              "        vertical-align: middle;\n",
              "    }\n",
              "\n",
              "    .dataframe tbody tr th {\n",
              "        vertical-align: top;\n",
              "    }\n",
              "\n",
              "    .dataframe thead th {\n",
              "        text-align: right;\n",
              "    }\n",
              "</style>\n",
              "<table border=\"1\" class=\"dataframe\">\n",
              "  <thead>\n",
              "    <tr style=\"text-align: right;\">\n",
              "      <th></th>\n",
              "      <th>START</th>\n",
              "      <th>STOP</th>\n",
              "      <th>PATIENT</th>\n",
              "      <th>ENCOUNTER</th>\n",
              "      <th>CODE</th>\n",
              "      <th>DESCRIPTION</th>\n",
              "    </tr>\n",
              "  </thead>\n",
              "  <tbody>\n",
              "    <tr>\n",
              "      <th>0</th>\n",
              "      <td>2001-05-01</td>\n",
              "      <td>NaN</td>\n",
              "      <td>1d604da9-9a81-4ba9-80c2-de3375d59b40</td>\n",
              "      <td>8f104aa7-4ca9-4473-885a-bba2437df588</td>\n",
              "      <td>40055000</td>\n",
              "      <td>Chronic sinusitis (disorder)</td>\n",
              "    </tr>\n",
              "    <tr>\n",
              "      <th>1</th>\n",
              "      <td>2011-08-09</td>\n",
              "      <td>2011-08-16</td>\n",
              "      <td>8d4c4326-e9de-4f45-9a4c-f8c36bff89ae</td>\n",
              "      <td>9d35ec9f-352a-4629-92ef-38eae38437e7</td>\n",
              "      <td>444814009</td>\n",
              "      <td>Viral sinusitis (disorder)</td>\n",
              "    </tr>\n",
              "    <tr>\n",
              "      <th>2</th>\n",
              "      <td>2011-11-16</td>\n",
              "      <td>2011-11-26</td>\n",
              "      <td>8d4c4326-e9de-4f45-9a4c-f8c36bff89ae</td>\n",
              "      <td>ae7555a9-eaff-4c09-98a7-21bc6ed1b1fd</td>\n",
              "      <td>195662009</td>\n",
              "      <td>Acute viral pharyngitis (disorder)</td>\n",
              "    </tr>\n",
              "    <tr>\n",
              "      <th>3</th>\n",
              "      <td>2011-05-13</td>\n",
              "      <td>2011-05-27</td>\n",
              "      <td>10339b10-3cd1-4ac3-ac13-ec26728cb592</td>\n",
              "      <td>e1ab4933-07a1-49f0-b4bd-05500919061d</td>\n",
              "      <td>10509002</td>\n",
              "      <td>Acute bronchitis (disorder)</td>\n",
              "    </tr>\n",
              "    <tr>\n",
              "      <th>4</th>\n",
              "      <td>2011-02-06</td>\n",
              "      <td>2011-02-14</td>\n",
              "      <td>f5dcd418-09fe-4a2f-baa0-3da800bd8c3a</td>\n",
              "      <td>b8f76eba-7795-4dcd-a544-f27ac2ef3d46</td>\n",
              "      <td>195662009</td>\n",
              "      <td>Acute viral pharyngitis (disorder)</td>\n",
              "    </tr>\n",
              "  </tbody>\n",
              "</table>\n",
              "</div>"
            ],
            "text/plain": [
              "        START        STOP  ...       CODE                         DESCRIPTION\n",
              "0  2001-05-01         NaN  ...   40055000        Chronic sinusitis (disorder)\n",
              "1  2011-08-09  2011-08-16  ...  444814009          Viral sinusitis (disorder)\n",
              "2  2011-11-16  2011-11-26  ...  195662009  Acute viral pharyngitis (disorder)\n",
              "3  2011-05-13  2011-05-27  ...   10509002         Acute bronchitis (disorder)\n",
              "4  2011-02-06  2011-02-14  ...  195662009  Acute viral pharyngitis (disorder)\n",
              "\n",
              "[5 rows x 6 columns]"
            ]
          },
          "metadata": {},
          "execution_count": 11
        }
      ]
    },
    {
      "cell_type": "code",
      "metadata": {
        "colab": {
          "base_uri": "https://localhost:8080/"
        },
        "id": "1ao9QVQ-jM2F",
        "outputId": "b5f88039-a744-4da3-fc90-64a175f714e0"
      },
      "source": [
        "print(df_conditions.describe())\n",
        "print(\"The length of conditions file:\",len(df_conditions))\n",
        "# this is a relatively larger file than the allergies file \n",
        "# one thing that comes to my mind is that not every patient can have allergies , it might be possible that only few have those"
      ],
      "execution_count": null,
      "outputs": [
        {
          "output_type": "stream",
          "name": "stdout",
          "text": [
            "               CODE\n",
            "count  8.376000e+03\n",
            "mean   1.949886e+12\n",
            "std    2.219533e+13\n",
            "min    1.734006e+06\n",
            "25%    5.374101e+07\n",
            "50%    1.270130e+08\n",
            "75%    2.833710e+08\n",
            "max    3.685810e+14\n",
            "The length of conditions file: 8376\n"
          ]
        }
      ]
    },
    {
      "cell_type": "code",
      "metadata": {
        "colab": {
          "base_uri": "https://localhost:8080/"
        },
        "id": "ZFyMukgWcYKZ",
        "outputId": "d6c6aaa9-9760-4d31-fdb5-20a31dfe9c33"
      },
      "source": [
        "# so this has the diagnoses of the patient , first let's clear whether the patients in the  allergies and patients here are same patients\n",
        "# and same with the encounter parameter\n",
        "\n",
        "conditions_patients = list(df_conditions[\"PATIENT\"].unique())\n",
        "print(\"Number of patients in this conditions file : \",len(conditions_patients))"
      ],
      "execution_count": null,
      "outputs": [
        {
          "output_type": "stream",
          "name": "stdout",
          "text": [
            "Number of patients in this conditions file :  1152\n"
          ]
        }
      ]
    },
    {
      "cell_type": "code",
      "metadata": {
        "colab": {
          "base_uri": "https://localhost:8080/"
        },
        "id": "Qquc_IifjJ9E",
        "outputId": "b6f18ada-ba5e-430a-bda0-065dcef9ecad"
      },
      "source": [
        "# ccommon elements in allergies and diagnosis \n",
        "def common(lst1, lst2): \n",
        "    return set(set(lst1) & set(lst2))\n",
        "\n",
        "common_allergies_conditions_patients = common(allergy_patients,conditions_patients)\n",
        "print(\"Common patients :\",len(common_allergies_conditions_patients)) "
      ],
      "execution_count": null,
      "outputs": [
        {
          "output_type": "stream",
          "name": "stdout",
          "text": [
            "Common patients : 141\n"
          ]
        }
      ]
    },
    {
      "cell_type": "code",
      "metadata": {
        "colab": {
          "base_uri": "https://localhost:8080/"
        },
        "id": "arkHU4ZJl9zX",
        "outputId": "8e6274d6-819f-45d8-e1bf-08c884df3fab"
      },
      "source": [
        "# checking if common allergies_conditions_patients and allergies_patients same\n",
        "print(sorted(common_allergies_conditions_patients)==sorted(allergy_patients))"
      ],
      "execution_count": null,
      "outputs": [
        {
          "output_type": "stream",
          "name": "stdout",
          "text": [
            "True\n"
          ]
        }
      ]
    },
    {
      "cell_type": "code",
      "metadata": {
        "colab": {
          "base_uri": "https://localhost:8080/"
        },
        "id": "ysahXa11mZ_N",
        "outputId": "dd4c1fdf-352a-4c26-fb01-f94446912663"
      },
      "source": [
        "# so the deduction here is that all allergy patient are in the condition csv \n",
        "# and 1152-141 = 1011 patients didn't suffer from allergies and also it seems same person has multiple diagnosis but not for allergy\n",
        "# let's see there encounter id in that case\n",
        "\n",
        "# let's finally conclude this file by seeing what does encounter reveal us , it should be unique\n",
        "condition_encounter = list(df_conditions[\"ENCOUNTER\"].unique())\n",
        "print(\"Number of Unique encounter : \", len(condition_encounter))\n",
        "# mostly unique encounter id"
      ],
      "execution_count": null,
      "outputs": [
        {
          "output_type": "stream",
          "name": "stdout",
          "text": [
            "Number of Unique encounter :  7650\n"
          ]
        }
      ]
    },
    {
      "cell_type": "code",
      "metadata": {
        "colab": {
          "base_uri": "https://localhost:8080/"
        },
        "id": "ApbObQh8nco7",
        "outputId": "72a3c87b-8549-42ce-da33-f1ddc9ac06c6"
      },
      "source": [
        "# there are no na values in encounter\n",
        "sum(df_conditions[\"ENCOUNTER\"].isna())"
      ],
      "execution_count": null,
      "outputs": [
        {
          "output_type": "execute_result",
          "data": {
            "text/plain": [
              "0"
            ]
          },
          "metadata": {},
          "execution_count": 17
        }
      ]
    },
    {
      "cell_type": "code",
      "metadata": {
        "colab": {
          "base_uri": "https://localhost:8080/"
        },
        "id": "Jk38X2VPn07t",
        "outputId": "22bc1ed1-340e-42d1-d636-b4f5679fe784"
      },
      "source": [
        "print(df_conditions[df_conditions[\"PATIENT\"]==df_conditions[\"PATIENT\"][0]][\"ENCOUNTER\"])"
      ],
      "execution_count": null,
      "outputs": [
        {
          "output_type": "stream",
          "name": "stdout",
          "text": [
            "0     8f104aa7-4ca9-4473-885a-bba2437df588\n",
            "8     792fae81-a007-44b0-8221-46953737b089\n",
            "11    4e595f0c-f50f-461b-a04e-13b4e492350e\n",
            "Name: ENCOUNTER, dtype: object\n"
          ]
        }
      ]
    },
    {
      "cell_type": "code",
      "metadata": {
        "colab": {
          "base_uri": "https://localhost:8080/"
        },
        "id": "iPzQh_EUptM6",
        "outputId": "68f19f01-8ba1-45d4-b05f-237655bed058"
      },
      "source": [
        "# let's pick a patient in allergies same one and see how many encounters it has in this overall diagnosis\n",
        "print(df_conditions[df_conditions[\"PATIENT\"]==df_allergies[\"PATIENT\"][0]][\"ENCOUNTER\"])"
      ],
      "execution_count": null,
      "outputs": [
        {
          "output_type": "stream",
          "name": "stdout",
          "text": [
            "52    e0d7af4d-903e-4322-a05a-d50dd9fdd0c3\n",
            "53    08a01d95-8749-4742-b6a8-191e932fd108\n",
            "54    5505aefd-c09e-44aa-8229-6d5b68f25396\n",
            "55    9ed30ead-01be-4413-9262-aabdeb59a28a\n",
            "56    285f1527-0a48-420e-817e-d5010547382b\n",
            "57    7efe59e5-9519-4a4a-a8b7-5ef99070c540\n",
            "58    2057671e-9f07-48bf-88f9-2133cc5eff1a\n",
            "59    ed7e83ff-5c30-4e07-9e3d-fd4b7cc06d0e\n",
            "60    68b975cc-c01d-42ed-b288-55e5e32bae03\n",
            "61    d9e93d2a-26e9-4168-bff5-40057868d8e5\n",
            "62    e5d7f7a0-3e4c-4330-97d1-7551a0e56c5e\n",
            "63    994b6dd1-e838-46fe-b1d5-52c799a105a7\n",
            "64    222e18ed-b260-4427-9bb2-1895ac4506d8\n",
            "Name: ENCOUNTER, dtype: object\n"
          ]
        }
      ]
    },
    {
      "cell_type": "code",
      "metadata": {
        "colab": {
          "base_uri": "https://localhost:8080/"
        },
        "id": "rO6bnhUGp-w_",
        "outputId": "d0160066-1673-4d4b-b7eb-cfe03a5973f5"
      },
      "source": [
        "# previously : \n",
        "\n",
        "#0    b896bf40-8b72-42b7-b205-142ee3a56b55\n",
        "#1    b896bf40-8b72-42b7-b205-142ee3a56b55\n",
        "\n",
        "# these two were for allergies\n",
        "\n",
        "# now same patient has th  above case with not in them ,let's test more\n",
        "print(df_conditions[df_conditions[\"ENCOUNTER\"]==df_allergies[\"ENCOUNTER\"][0]])"
      ],
      "execution_count": null,
      "outputs": [
        {
          "output_type": "stream",
          "name": "stdout",
          "text": [
            "Empty DataFrame\n",
            "Columns: [START, STOP, PATIENT, ENCOUNTER, CODE, DESCRIPTION]\n",
            "Index: []\n"
          ]
        }
      ]
    },
    {
      "cell_type": "code",
      "metadata": {
        "colab": {
          "base_uri": "https://localhost:8080/",
          "height": 450
        },
        "id": "j_wd8R99qrhx",
        "outputId": "2a064d53-537e-4711-bd32-b67353152222"
      },
      "source": [
        "\n",
        "# so this encounter for this allergy was not recorded in the conditions.csv\n",
        "# let's check one more that , the whole condition for the very same patient\n",
        "df_conditions[df_conditions[\"PATIENT\"]==df_allergies[\"PATIENT\"][0]]"
      ],
      "execution_count": null,
      "outputs": [
        {
          "output_type": "execute_result",
          "data": {
            "text/html": [
              "<div>\n",
              "<style scoped>\n",
              "    .dataframe tbody tr th:only-of-type {\n",
              "        vertical-align: middle;\n",
              "    }\n",
              "\n",
              "    .dataframe tbody tr th {\n",
              "        vertical-align: top;\n",
              "    }\n",
              "\n",
              "    .dataframe thead th {\n",
              "        text-align: right;\n",
              "    }\n",
              "</style>\n",
              "<table border=\"1\" class=\"dataframe\">\n",
              "  <thead>\n",
              "    <tr style=\"text-align: right;\">\n",
              "      <th></th>\n",
              "      <th>START</th>\n",
              "      <th>STOP</th>\n",
              "      <th>PATIENT</th>\n",
              "      <th>ENCOUNTER</th>\n",
              "      <th>CODE</th>\n",
              "      <th>DESCRIPTION</th>\n",
              "    </tr>\n",
              "  </thead>\n",
              "  <tbody>\n",
              "    <tr>\n",
              "      <th>52</th>\n",
              "      <td>2010-07-07</td>\n",
              "      <td>2010-07-17</td>\n",
              "      <td>76982e06-f8b8-4509-9ca3-65a99c8650fe</td>\n",
              "      <td>e0d7af4d-903e-4322-a05a-d50dd9fdd0c3</td>\n",
              "      <td>195662009</td>\n",
              "      <td>Acute viral pharyngitis (disorder)</td>\n",
              "    </tr>\n",
              "    <tr>\n",
              "      <th>53</th>\n",
              "      <td>2011-08-03</td>\n",
              "      <td>2012-02-29</td>\n",
              "      <td>76982e06-f8b8-4509-9ca3-65a99c8650fe</td>\n",
              "      <td>08a01d95-8749-4742-b6a8-191e932fd108</td>\n",
              "      <td>72892002</td>\n",
              "      <td>Normal pregnancy</td>\n",
              "    </tr>\n",
              "    <tr>\n",
              "      <th>54</th>\n",
              "      <td>2012-05-13</td>\n",
              "      <td>2013-11-13</td>\n",
              "      <td>76982e06-f8b8-4509-9ca3-65a99c8650fe</td>\n",
              "      <td>5505aefd-c09e-44aa-8229-6d5b68f25396</td>\n",
              "      <td>65363002</td>\n",
              "      <td>Otitis media</td>\n",
              "    </tr>\n",
              "    <tr>\n",
              "      <th>55</th>\n",
              "      <td>2012-07-18</td>\n",
              "      <td>2012-08-08</td>\n",
              "      <td>76982e06-f8b8-4509-9ca3-65a99c8650fe</td>\n",
              "      <td>9ed30ead-01be-4413-9262-aabdeb59a28a</td>\n",
              "      <td>72892002</td>\n",
              "      <td>Normal pregnancy</td>\n",
              "    </tr>\n",
              "    <tr>\n",
              "      <th>56</th>\n",
              "      <td>2012-09-24</td>\n",
              "      <td>2012-11-01</td>\n",
              "      <td>76982e06-f8b8-4509-9ca3-65a99c8650fe</td>\n",
              "      <td>285f1527-0a48-420e-817e-d5010547382b</td>\n",
              "      <td>301011002</td>\n",
              "      <td>Escherichia coli urinary tract infection</td>\n",
              "    </tr>\n",
              "    <tr>\n",
              "      <th>57</th>\n",
              "      <td>2013-01-09</td>\n",
              "      <td>2013-08-14</td>\n",
              "      <td>76982e06-f8b8-4509-9ca3-65a99c8650fe</td>\n",
              "      <td>7efe59e5-9519-4a4a-a8b7-5ef99070c540</td>\n",
              "      <td>72892002</td>\n",
              "      <td>Normal pregnancy</td>\n",
              "    </tr>\n",
              "    <tr>\n",
              "      <th>58</th>\n",
              "      <td>2013-01-07</td>\n",
              "      <td>2013-01-21</td>\n",
              "      <td>76982e06-f8b8-4509-9ca3-65a99c8650fe</td>\n",
              "      <td>2057671e-9f07-48bf-88f9-2133cc5eff1a</td>\n",
              "      <td>444814009</td>\n",
              "      <td>Viral sinusitis (disorder)</td>\n",
              "    </tr>\n",
              "    <tr>\n",
              "      <th>59</th>\n",
              "      <td>2014-01-23</td>\n",
              "      <td>2014-01-30</td>\n",
              "      <td>76982e06-f8b8-4509-9ca3-65a99c8650fe</td>\n",
              "      <td>ed7e83ff-5c30-4e07-9e3d-fd4b7cc06d0e</td>\n",
              "      <td>444814009</td>\n",
              "      <td>Viral sinusitis (disorder)</td>\n",
              "    </tr>\n",
              "    <tr>\n",
              "      <th>60</th>\n",
              "      <td>2015-03-24</td>\n",
              "      <td>2015-04-03</td>\n",
              "      <td>76982e06-f8b8-4509-9ca3-65a99c8650fe</td>\n",
              "      <td>68b975cc-c01d-42ed-b288-55e5e32bae03</td>\n",
              "      <td>195662009</td>\n",
              "      <td>Acute viral pharyngitis (disorder)</td>\n",
              "    </tr>\n",
              "    <tr>\n",
              "      <th>61</th>\n",
              "      <td>2015-11-28</td>\n",
              "      <td>2016-01-02</td>\n",
              "      <td>76982e06-f8b8-4509-9ca3-65a99c8650fe</td>\n",
              "      <td>d9e93d2a-26e9-4168-bff5-40057868d8e5</td>\n",
              "      <td>39848009</td>\n",
              "      <td>Whiplash injury to neck</td>\n",
              "    </tr>\n",
              "    <tr>\n",
              "      <th>62</th>\n",
              "      <td>2016-11-03</td>\n",
              "      <td>2016-11-17</td>\n",
              "      <td>76982e06-f8b8-4509-9ca3-65a99c8650fe</td>\n",
              "      <td>e5d7f7a0-3e4c-4330-97d1-7551a0e56c5e</td>\n",
              "      <td>10509002</td>\n",
              "      <td>Acute bronchitis (disorder)</td>\n",
              "    </tr>\n",
              "    <tr>\n",
              "      <th>63</th>\n",
              "      <td>2016-11-16</td>\n",
              "      <td>NaN</td>\n",
              "      <td>76982e06-f8b8-4509-9ca3-65a99c8650fe</td>\n",
              "      <td>994b6dd1-e838-46fe-b1d5-52c799a105a7</td>\n",
              "      <td>162864005</td>\n",
              "      <td>Body mass index 30+ - obesity (finding)</td>\n",
              "    </tr>\n",
              "    <tr>\n",
              "      <th>64</th>\n",
              "      <td>2017-12-17</td>\n",
              "      <td>2017-12-24</td>\n",
              "      <td>76982e06-f8b8-4509-9ca3-65a99c8650fe</td>\n",
              "      <td>222e18ed-b260-4427-9bb2-1895ac4506d8</td>\n",
              "      <td>444814009</td>\n",
              "      <td>Viral sinusitis (disorder)</td>\n",
              "    </tr>\n",
              "  </tbody>\n",
              "</table>\n",
              "</div>"
            ],
            "text/plain": [
              "         START        STOP  ...       CODE                               DESCRIPTION\n",
              "52  2010-07-07  2010-07-17  ...  195662009        Acute viral pharyngitis (disorder)\n",
              "53  2011-08-03  2012-02-29  ...   72892002                          Normal pregnancy\n",
              "54  2012-05-13  2013-11-13  ...   65363002                              Otitis media\n",
              "55  2012-07-18  2012-08-08  ...   72892002                          Normal pregnancy\n",
              "56  2012-09-24  2012-11-01  ...  301011002  Escherichia coli urinary tract infection\n",
              "57  2013-01-09  2013-08-14  ...   72892002                          Normal pregnancy\n",
              "58  2013-01-07  2013-01-21  ...  444814009                Viral sinusitis (disorder)\n",
              "59  2014-01-23  2014-01-30  ...  444814009                Viral sinusitis (disorder)\n",
              "60  2015-03-24  2015-04-03  ...  195662009        Acute viral pharyngitis (disorder)\n",
              "61  2015-11-28  2016-01-02  ...   39848009                   Whiplash injury to neck\n",
              "62  2016-11-03  2016-11-17  ...   10509002               Acute bronchitis (disorder)\n",
              "63  2016-11-16         NaN  ...  162864005   Body mass index 30+ - obesity (finding)\n",
              "64  2017-12-17  2017-12-24  ...  444814009                Viral sinusitis (disorder)\n",
              "\n",
              "[13 rows x 6 columns]"
            ]
          },
          "metadata": {},
          "execution_count": 21
        }
      ]
    },
    {
      "cell_type": "code",
      "metadata": {
        "colab": {
          "base_uri": "https://localhost:8080/",
          "height": 110
        },
        "id": "oLKtp4uGq_5n",
        "outputId": "f6eea8e3-9106-4df3-9cd3-0e77f624cac1"
      },
      "source": [
        "df_allergies[df_allergies[\"PATIENT\"]==df_allergies[\"PATIENT\"][0]]"
      ],
      "execution_count": null,
      "outputs": [
        {
          "output_type": "execute_result",
          "data": {
            "text/html": [
              "<div>\n",
              "<style scoped>\n",
              "    .dataframe tbody tr th:only-of-type {\n",
              "        vertical-align: middle;\n",
              "    }\n",
              "\n",
              "    .dataframe tbody tr th {\n",
              "        vertical-align: top;\n",
              "    }\n",
              "\n",
              "    .dataframe thead th {\n",
              "        text-align: right;\n",
              "    }\n",
              "</style>\n",
              "<table border=\"1\" class=\"dataframe\">\n",
              "  <thead>\n",
              "    <tr style=\"text-align: right;\">\n",
              "      <th></th>\n",
              "      <th>START</th>\n",
              "      <th>STOP</th>\n",
              "      <th>PATIENT</th>\n",
              "      <th>ENCOUNTER</th>\n",
              "      <th>CODE</th>\n",
              "      <th>DESCRIPTION</th>\n",
              "    </tr>\n",
              "  </thead>\n",
              "  <tbody>\n",
              "    <tr>\n",
              "      <th>0</th>\n",
              "      <td>1982-10-25</td>\n",
              "      <td>NaN</td>\n",
              "      <td>76982e06-f8b8-4509-9ca3-65a99c8650fe</td>\n",
              "      <td>b896bf40-8b72-42b7-b205-142ee3a56b55</td>\n",
              "      <td>300916003</td>\n",
              "      <td>Latex allergy</td>\n",
              "    </tr>\n",
              "    <tr>\n",
              "      <th>1</th>\n",
              "      <td>1982-10-25</td>\n",
              "      <td>NaN</td>\n",
              "      <td>76982e06-f8b8-4509-9ca3-65a99c8650fe</td>\n",
              "      <td>b896bf40-8b72-42b7-b205-142ee3a56b55</td>\n",
              "      <td>300913006</td>\n",
              "      <td>Shellfish allergy</td>\n",
              "    </tr>\n",
              "  </tbody>\n",
              "</table>\n",
              "</div>"
            ],
            "text/plain": [
              "        START STOP  ...       CODE        DESCRIPTION\n",
              "0  1982-10-25  NaN  ...  300916003      Latex allergy\n",
              "1  1982-10-25  NaN  ...  300913006  Shellfish allergy\n",
              "\n",
              "[2 rows x 6 columns]"
            ]
          },
          "metadata": {},
          "execution_count": 22
        }
      ]
    },
    {
      "cell_type": "code",
      "metadata": {
        "id": "038YxFDjrOuo"
      },
      "source": [
        "# final conclusion is that -- allergies is allergy specific and conditions are actual disorder \n",
        "# and combined both are the patients problems"
      ],
      "execution_count": null,
      "outputs": []
    },
    {
      "cell_type": "code",
      "metadata": {
        "colab": {
          "base_uri": "https://localhost:8080/",
          "height": 291
        },
        "id": "Hodi4lPXSa34",
        "outputId": "94bb6b34-8321-492a-c6d5-90eea7799bd5"
      },
      "source": [
        "# distribution in conditions\n",
        "conditions_distribution = dict(df_conditions[\"DESCRIPTION\"].value_counts())\n",
        "print(conditions_distribution)\n",
        "plt.bar(range(len(conditions_distribution)),list(conditions_distribution.values()),tick_label=list(conditions_distribution.keys()))\n",
        "plt.xticks([],rotation=90)\n",
        "plt.show()"
      ],
      "execution_count": null,
      "outputs": [
        {
          "output_type": "stream",
          "name": "stdout",
          "text": [
            "{'Viral sinusitis (disorder)': 1248, 'Acute viral pharyngitis (disorder)': 653, 'Acute bronchitis (disorder)': 563, 'Normal pregnancy': 516, 'Body mass index 30+ - obesity (finding)': 449, 'Prediabetes': 317, 'Hypertension': 302, 'Anemia (disorder)': 300, 'Chronic sinusitis (disorder)': 236, 'Miscarriage in first trimester': 221, 'Otitis media': 196, 'Streptococcal sore throat (disorder)': 157, 'Hyperlipidemia': 136, 'Sprain of ankle': 134, 'Polyp of colon': 79, 'Concussion with no loss of consciousness': 77, 'Diabetes': 76, 'Hypertriglyceridemia (disorder)': 74, 'Metabolic syndrome X (disorder)': 74, 'Acute bacterial sinusitis (disorder)': 69, 'Sinusitis (disorder)': 66, 'Osteoarthritis of knee': 65, 'Coronary Heart Disease': 61, 'Chronic congestive heart failure (disorder)': 57, 'Osteoporosis (disorder)': 57, 'Impacted molars': 57, 'Sprain of wrist': 56, 'Whiplash injury to neck': 55, 'Chronic pain': 55, 'Chronic intractable migraine without aura': 53, 'Drug overdose': 52, 'History of appendectomy': 50, 'Appendicitis': 50, 'Fetus with unknown complication': 49, 'Stroke': 48, 'Cardiac Arrest': 47, 'History of cardiac arrest (situation)': 47, 'Escherichia coli urinary tract infection': 47, 'Fracture of forearm': 44, 'Hyperglycemia (disorder)': 44, 'Laceration of forearm': 43, 'Fracture subluxation of wrist': 41, 'Tubal pregnancy': 41, 'Seizure disorder': 40, 'History of single seizure (situation)': 40, 'Diabetic renal disease (disorder)': 37, 'Facial laceration': 36, 'Laceration of hand': 36, 'Laceration of thigh': 35, 'Atrial Fibrillation': 34, 'Laceration of foot': 33, 'Perennial allergic rhinitis with seasonal variation': 32, 'Chronic kidney disease stage 1 (disorder)': 32, 'Fracture of ankle': 30, 'Cystitis': 30, 'Neoplasm of prostate': 30, 'Childhood asthma': 29, 'Perennial allergic rhinitis': 28, 'Carcinoma in situ of prostate (disorder)': 27, 'Fracture of clavicle': 27, 'Localized  primary osteoarthritis of the hand': 26, 'Antepartum eclampsia': 26, \"Alzheimer's disease (disorder)\": 25, 'Neuropathy due to type 2 diabetes mellitus (disorder)': 24, 'Epilepsy': 22, 'Osteoarthritis of hip': 21, 'Concussion with loss of consciousness': 21, 'Myocardial Infarction': 21, 'History of myocardial infarction (situation)': 21, 'Malignant neoplasm of breast (disorder)': 21, 'Atopic dermatitis': 20, 'Child attention deficit disorder': 20, 'Recurrent rectal polyp': 20, 'Preeclampsia': 19, 'Acute allergic reaction': 19, 'Second degree burn': 19, 'Pulmonary emphysema (disorder)': 18, 'First degree burn': 18, 'Pathological fracture due to osteoporosis (disorder)': 18, 'Blighted ovum': 17, 'Fracture of rib': 17, 'Seasonal allergic rhinitis': 15, 'Suspected lung cancer (situation)': 15, 'Non-small cell carcinoma of lung  TNM stage 1 (disorder)': 14, 'Non-small cell lung cancer (disorder)': 14, 'Recurrent urinary tract infection': 13, 'Diabetic retinopathy associated with type II diabetes mellitus (disorder)': 13, 'Injury of tendon of the rotator cuff of shoulder': 12, 'Rupture of appendix': 12, 'Idiopathic atrophic hypothyroidism': 11, 'Opioid abuse (disorder)': 11, 'Injury of medial collateral ligament of knee': 11, 'Alcoholism': 10, 'Closed fracture of hip': 10, 'Chronic obstructive bronchitis (disorder)': 9, 'Bullet wound': 9, 'Microalbuminuria due to type 2 diabetes mellitus (disorder)': 8, 'Chronic kidney disease stage 2 (disorder)': 8, 'Pneumonia': 8, 'Body mass index 40+ - severely obese (finding)': 8, 'Bleeding from anus': 7, 'Protracted diarrhea': 7, 'Nonproliferative diabetic retinopathy due to type 2 diabetes mellitus (disorder)': 7, 'Overlapping malignant neoplasm of colon': 7, 'Rupture of patellar tendon': 7, 'Malignant tumor of colon': 7, 'Smokes tobacco daily': 7, 'Concussion injury of brain': 6, 'Brain damage - traumatic': 6, 'Tear of meniscus of knee': 6, 'Metastasis from malignant tumor of prostate (disorder)': 5, 'Major depression disorder': 5, 'Gout': 5, 'Contact dermatitis': 5, \"Familial Alzheimer's disease of early onset (disorder)\": 4, 'Injury of anterior cruciate ligament': 4, 'Secondary malignant neoplasm of colon': 4, 'Burn injury(morphologic abnormality)': 2, 'Primary fibromyalgia syndrome': 2, 'Rheumatoid arthritis': 2, 'Macular edema and retinopathy due to type 2 diabetes mellitus (disorder)': 1, 'Proliferative diabetic retinopathy due to type II diabetes mellitus (disorder)': 1, 'Major depression  single episode': 1, 'Pyelonephritis': 1, 'Fracture of the vertebral column with spinal cord injury': 1, 'Primary malignant neoplasm of colon': 1, 'Small cell carcinoma of lung (disorder)': 1, 'Primary small cell malignant neoplasm of lung  TNM stage 1 (disorder)': 1, 'Fracture of vertebral column without spinal cord injury': 1}\n"
          ]
        },
        {
          "output_type": "display_data",
          "data": {
            "image/png": "[encoded data removed]",
            "text/plain": [
              "<Figure size 432x288 with 1 Axes>"
            ]
          },
          "metadata": {
            "needs_background": "light"
          }
        }
      ]
    },
    {
      "cell_type": "markdown",
      "metadata": {
        "id": "h991GXiUJmIz"
      },
      "source": [
        "# Encounter.csv -- Patient encounter data.\n",
        "\n"
      ]
    },
    {
      "cell_type": "code",
      "metadata": {
        "colab": {
          "base_uri": "https://localhost:8080/",
          "height": 475
        },
        "id": "FdB-qyjsJzVR",
        "outputId": "7314bd41-d9ad-437c-caae-d57c1cab2fe7"
      },
      "source": [
        "df_encounter = pd.read_csv(\"/content/drive/MyDrive/csv/encounters.csv\")\n",
        "df_encounter.head()"
      ],
      "execution_count": null,
      "outputs": [
        {
          "output_type": "execute_result",
          "data": {
            "text/html": [
              "<div>\n",
              "<style scoped>\n",
              "    .dataframe tbody tr th:only-of-type {\n",
              "        vertical-align: middle;\n",
              "    }\n",
              "\n",
              "    .dataframe tbody tr th {\n",
              "        vertical-align: top;\n",
              "    }\n",
              "\n",
              "    .dataframe thead th {\n",
              "        text-align: right;\n",
              "    }\n",
              "</style>\n",
              "<table border=\"1\" class=\"dataframe\">\n",
              "  <thead>\n",
              "    <tr style=\"text-align: right;\">\n",
              "      <th></th>\n",
              "      <th>Id</th>\n",
              "      <th>START</th>\n",
              "      <th>STOP</th>\n",
              "      <th>PATIENT</th>\n",
              "      <th>ORGANIZATION</th>\n",
              "      <th>PROVIDER</th>\n",
              "      <th>PAYER</th>\n",
              "      <th>ENCOUNTERCLASS</th>\n",
              "      <th>CODE</th>\n",
              "      <th>DESCRIPTION</th>\n",
              "      <th>BASE_ENCOUNTER_COST</th>\n",
              "      <th>TOTAL_CLAIM_COST</th>\n",
              "      <th>PAYER_COVERAGE</th>\n",
              "      <th>REASONCODE</th>\n",
              "      <th>REASONDESCRIPTION</th>\n",
              "    </tr>\n",
              "  </thead>\n",
              "  <tbody>\n",
              "    <tr>\n",
              "      <th>0</th>\n",
              "      <td>d0c40d10-8d87-447e-836e-99d26ad52ea5</td>\n",
              "      <td>2010-01-23T17:45:28Z</td>\n",
              "      <td>2010-01-23T18:10:28Z</td>\n",
              "      <td>034e9e3b-2def-4559-bb2a-7850888ae060</td>\n",
              "      <td>e002090d-4e92-300e-b41e-7d1f21dee4c6</td>\n",
              "      <td>e6283e46-fd81-3611-9459-0edb1c3da357</td>\n",
              "      <td>6e2f1a2d-27bd-3701-8d08-dae202c58632</td>\n",
              "      <td>ambulatory</td>\n",
              "      <td>185345009</td>\n",
              "      <td>Encounter for symptom</td>\n",
              "      <td>129.16</td>\n",
              "      <td>129.16</td>\n",
              "      <td>54.16</td>\n",
              "      <td>10509002.0</td>\n",
              "      <td>Acute bronchitis (disorder)</td>\n",
              "    </tr>\n",
              "    <tr>\n",
              "      <th>1</th>\n",
              "      <td>e88bc3a9-007c-405e-aabc-792a38f4aa2b</td>\n",
              "      <td>2012-01-23T17:45:28Z</td>\n",
              "      <td>2012-01-23T18:00:28Z</td>\n",
              "      <td>034e9e3b-2def-4559-bb2a-7850888ae060</td>\n",
              "      <td>772ee193-bb9f-30eb-9939-21e86c8e4da5</td>\n",
              "      <td>6f1d59a7-a5bd-3cf9-9671-5bad2f351c28</td>\n",
              "      <td>6e2f1a2d-27bd-3701-8d08-dae202c58632</td>\n",
              "      <td>wellness</td>\n",
              "      <td>162673000</td>\n",
              "      <td>General examination of patient (procedure)</td>\n",
              "      <td>129.16</td>\n",
              "      <td>129.16</td>\n",
              "      <td>129.16</td>\n",
              "      <td>NaN</td>\n",
              "      <td>NaN</td>\n",
              "    </tr>\n",
              "    <tr>\n",
              "      <th>2</th>\n",
              "      <td>8f104aa7-4ca9-4473-885a-bba2437df588</td>\n",
              "      <td>2001-05-01T15:02:18Z</td>\n",
              "      <td>2001-05-01T15:17:18Z</td>\n",
              "      <td>1d604da9-9a81-4ba9-80c2-de3375d59b40</td>\n",
              "      <td>5d4b9df1-93ae-3bc9-b680-03249990e558</td>\n",
              "      <td>af01a385-31d3-3c77-8fdb-2867fe88df2f</td>\n",
              "      <td>b1c428d6-4f07-31e0-90f0-68ffa6ff8c76</td>\n",
              "      <td>ambulatory</td>\n",
              "      <td>185345009</td>\n",
              "      <td>Encounter for symptom</td>\n",
              "      <td>129.16</td>\n",
              "      <td>129.16</td>\n",
              "      <td>0.00</td>\n",
              "      <td>36971009.0</td>\n",
              "      <td>Sinusitis (disorder)</td>\n",
              "    </tr>\n",
              "    <tr>\n",
              "      <th>3</th>\n",
              "      <td>b85c339a-6076-43ed-b9d0-9cf013dec49d</td>\n",
              "      <td>2011-07-28T15:02:18Z</td>\n",
              "      <td>2011-07-28T15:17:18Z</td>\n",
              "      <td>1d604da9-9a81-4ba9-80c2-de3375d59b40</td>\n",
              "      <td>3dc9bb2d-5d66-3e61-bf9a-e234c6433577</td>\n",
              "      <td>bb17e691-262b-3546-93d5-d88e7de93246</td>\n",
              "      <td>b1c428d6-4f07-31e0-90f0-68ffa6ff8c76</td>\n",
              "      <td>wellness</td>\n",
              "      <td>162673000</td>\n",
              "      <td>General examination of patient (procedure)</td>\n",
              "      <td>129.16</td>\n",
              "      <td>129.16</td>\n",
              "      <td>0.00</td>\n",
              "      <td>NaN</td>\n",
              "      <td>NaN</td>\n",
              "    </tr>\n",
              "    <tr>\n",
              "      <th>4</th>\n",
              "      <td>dae2b7cb-1316-4b78-954f-fa610a6c6d0e</td>\n",
              "      <td>2010-07-27T12:58:08Z</td>\n",
              "      <td>2010-07-27T13:28:08Z</td>\n",
              "      <td>10339b10-3cd1-4ac3-ac13-ec26728cb592</td>\n",
              "      <td>b03dba4f-892f-365c-bfd1-bfcfa7a98d5d</td>\n",
              "      <td>7ed6b84a-b847-3744-9d42-15c42297a0c2</td>\n",
              "      <td>d47b3510-2895-3b70-9897-342d681c769d</td>\n",
              "      <td>wellness</td>\n",
              "      <td>162673000</td>\n",
              "      <td>General examination of patient (procedure)</td>\n",
              "      <td>129.16</td>\n",
              "      <td>129.16</td>\n",
              "      <td>129.16</td>\n",
              "      <td>NaN</td>\n",
              "      <td>NaN</td>\n",
              "    </tr>\n",
              "  </tbody>\n",
              "</table>\n",
              "</div>"
            ],
            "text/plain": [
              "                                     Id  ...            REASONDESCRIPTION\n",
              "0  d0c40d10-8d87-447e-836e-99d26ad52ea5  ...  Acute bronchitis (disorder)\n",
              "1  e88bc3a9-007c-405e-aabc-792a38f4aa2b  ...                          NaN\n",
              "2  8f104aa7-4ca9-4473-885a-bba2437df588  ...         Sinusitis (disorder)\n",
              "3  b85c339a-6076-43ed-b9d0-9cf013dec49d  ...                          NaN\n",
              "4  dae2b7cb-1316-4b78-954f-fa610a6c6d0e  ...                          NaN\n",
              "\n",
              "[5 rows x 15 columns]"
            ]
          },
          "metadata": {},
          "execution_count": 25
        }
      ]
    },
    {
      "cell_type": "code",
      "metadata": {
        "colab": {
          "base_uri": "https://localhost:8080/"
        },
        "id": "97NMy7QjUE83",
        "outputId": "d6c3c9e2-2d2f-4f4b-e4c8-e048e3fe8212"
      },
      "source": [
        "print(\"The size of the encounter file : \", df_encounter.shape)"
      ],
      "execution_count": null,
      "outputs": [
        {
          "output_type": "stream",
          "name": "stdout",
          "text": [
            "The size of the encounter file :  (53346, 15)\n"
          ]
        }
      ]
    },
    {
      "cell_type": "code",
      "metadata": {
        "colab": {
          "base_uri": "https://localhost:8080/"
        },
        "id": "tWs0q3k8J7xg",
        "outputId": "01cd452b-ff4b-427e-e6e7-4bffb8dc1eb4"
      },
      "source": [
        "# ID -- is the UUID id for the patient\n",
        "encounter_patient  = set(df_encounter[\"PATIENT\"].unique())\n",
        "print(\"The number of patients in encounter file : \",len(encounter_patient))"
      ],
      "execution_count": null,
      "outputs": [
        {
          "output_type": "stream",
          "name": "stdout",
          "text": [
            "The number of patients in encounter file :  1171\n"
          ]
        }
      ]
    },
    {
      "cell_type": "code",
      "metadata": {
        "colab": {
          "base_uri": "https://localhost:8080/"
        },
        "id": "pdAPjIfdMc44",
        "outputId": "c37b5f3a-ee0c-4823-db86-0c067655640a"
      },
      "source": [
        "# in conditions file there were 1152 patients , let's use common function to find out the common patients\n",
        "\n",
        "common_allergies_encounter_patients = common(allergy_patients,encounter_patient)\n",
        "print(\"Common patients :\",len(common_allergies_encounter_patients)) \n",
        "\n",
        "# checking if common allergies_encounter_patients and allergies_patients same\n",
        "print(sorted(common_allergies_encounter_patients)==sorted(allergy_patients))"
      ],
      "execution_count": null,
      "outputs": [
        {
          "output_type": "stream",
          "name": "stdout",
          "text": [
            "Common patients : 141\n",
            "True\n"
          ]
        }
      ]
    },
    {
      "cell_type": "code",
      "metadata": {
        "colab": {
          "base_uri": "https://localhost:8080/"
        },
        "id": "yUAW7MtsNQGF",
        "outputId": "5438b0d7-6ae5-4a8a-e805-77daddeeeafe"
      },
      "source": [
        "common_conditions_encounter_patients = common(encounter_patient,conditions_patients)\n",
        "print(\"Common patients :\",len(common_conditions_encounter_patients)) \n",
        "\n",
        "# checking if common allergies_encounter_patients and allergies_patients same\n",
        "print(sorted(common_conditions_encounter_patients)==sorted(conditions_patients))"
      ],
      "execution_count": null,
      "outputs": [
        {
          "output_type": "stream",
          "name": "stdout",
          "text": [
            "Common patients : 1152\n",
            "True\n"
          ]
        }
      ]
    },
    {
      "cell_type": "code",
      "metadata": {
        "colab": {
          "base_uri": "https://localhost:8080/"
        },
        "id": "qEhco0WBNx6S",
        "outputId": "ec042cfa-9354-4f7c-8134-dc062ba9d245"
      },
      "source": [
        "# so some patients are in this file are new , so all allergies patient are in conditions file\n",
        "# and all condition file patients are in encounter file and some extra\n",
        "\n",
        "new_encounter_patients = encounter_patient.difference(conditions_patients)\n",
        "print(len(new_encounter_patients))"
      ],
      "execution_count": null,
      "outputs": [
        {
          "output_type": "stream",
          "name": "stdout",
          "text": [
            "19\n"
          ]
        }
      ]
    },
    {
      "cell_type": "code",
      "metadata": {
        "colab": {
          "base_uri": "https://localhost:8080/"
        },
        "id": "1fmbu4VnOvot",
        "outputId": "01f5f6c9-7af6-4e87-ff7d-a9ca6863cef7"
      },
      "source": [
        "for patient in new_encounter_patients:\n",
        "  print(df_encounter[df_encounter[\"PATIENT\"]==patient][\"ENCOUNTERCLASS\"])\n",
        "  print(df_encounter[df_encounter[\"PATIENT\"]==patient][\"REASONDESCRIPTION\"])"
      ],
      "execution_count": null,
      "outputs": [
        {
          "output_type": "stream",
          "name": "stdout",
          "text": [
            "86    wellness\n",
            "87    wellness\n",
            "88    wellness\n",
            "89    wellness\n",
            "90    wellness\n",
            "91    wellness\n",
            "Name: ENCOUNTERCLASS, dtype: object\n",
            "86    NaN\n",
            "87    NaN\n",
            "88    NaN\n",
            "89    NaN\n",
            "90    NaN\n",
            "91    NaN\n",
            "Name: REASONDESCRIPTION, dtype: object\n",
            "44089    wellness\n",
            "44090    wellness\n",
            "44091    wellness\n",
            "44092    wellness\n",
            "44093    wellness\n",
            "Name: ENCOUNTERCLASS, dtype: object\n",
            "44089    NaN\n",
            "44090    NaN\n",
            "44091    NaN\n",
            "44092    NaN\n",
            "44093    NaN\n",
            "Name: REASONDESCRIPTION, dtype: object\n",
            "6082    wellness\n",
            "6083    wellness\n",
            "6084    wellness\n",
            "6085    wellness\n",
            "6086    wellness\n",
            "6087    wellness\n",
            "6088    wellness\n",
            "6089    wellness\n",
            "6090    wellness\n",
            "6091    wellness\n",
            "Name: ENCOUNTERCLASS, dtype: object\n",
            "6082    NaN\n",
            "6083    NaN\n",
            "6084    NaN\n",
            "6085    NaN\n",
            "6086    NaN\n",
            "6087    NaN\n",
            "6088    NaN\n",
            "6089    NaN\n",
            "6090    NaN\n",
            "6091    NaN\n",
            "Name: REASONDESCRIPTION, dtype: object\n",
            "27482    wellness\n",
            "27483    wellness\n",
            "27484    wellness\n",
            "27485    wellness\n",
            "27486    wellness\n",
            "27487    wellness\n",
            "27488    wellness\n",
            "27489    wellness\n",
            "27490    wellness\n",
            "27491    wellness\n",
            "Name: ENCOUNTERCLASS, dtype: object\n",
            "27482    NaN\n",
            "27483    NaN\n",
            "27484    NaN\n",
            "27485    NaN\n",
            "27486    NaN\n",
            "27487    NaN\n",
            "27488    NaN\n",
            "27489    NaN\n",
            "27490    NaN\n",
            "27491    NaN\n",
            "Name: REASONDESCRIPTION, dtype: object\n",
            "52584    wellness\n",
            "52585    wellness\n",
            "52586    wellness\n",
            "52587    wellness\n",
            "52588    wellness\n",
            "52589    wellness\n",
            "52590    wellness\n",
            "52591    wellness\n",
            "52592    wellness\n",
            "52593    wellness\n",
            "Name: ENCOUNTERCLASS, dtype: object\n",
            "52584    NaN\n",
            "52585    NaN\n",
            "52586    NaN\n",
            "52587    NaN\n",
            "52588    NaN\n",
            "52589    NaN\n",
            "52590    NaN\n",
            "52591    NaN\n",
            "52592    NaN\n",
            "52593    NaN\n",
            "Name: REASONDESCRIPTION, dtype: object\n",
            "3568    wellness\n",
            "3569    wellness\n",
            "Name: ENCOUNTERCLASS, dtype: object\n",
            "3568    NaN\n",
            "3569    NaN\n",
            "Name: REASONDESCRIPTION, dtype: object\n",
            "20602    wellness\n",
            "20603    wellness\n",
            "20604    wellness\n",
            "20605    wellness\n",
            "20606    wellness\n",
            "20607    wellness\n",
            "20608    wellness\n",
            "20609    wellness\n",
            "Name: ENCOUNTERCLASS, dtype: object\n",
            "20602    NaN\n",
            "20603    NaN\n",
            "20604    NaN\n",
            "20605    NaN\n",
            "20606    NaN\n",
            "20607    NaN\n",
            "20608    NaN\n",
            "20609    NaN\n",
            "Name: REASONDESCRIPTION, dtype: object\n",
            "21643    wellness\n",
            "21644    wellness\n",
            "21645    wellness\n",
            "21646    wellness\n",
            "Name: ENCOUNTERCLASS, dtype: object\n",
            "21643    NaN\n",
            "21644    NaN\n",
            "21645    NaN\n",
            "21646    NaN\n",
            "Name: REASONDESCRIPTION, dtype: object\n",
            "33668    wellness\n",
            "33669    wellness\n",
            "Name: ENCOUNTERCLASS, dtype: object\n",
            "33668    NaN\n",
            "33669    NaN\n",
            "Name: REASONDESCRIPTION, dtype: object\n",
            "8039    wellness\n",
            "8047    wellness\n",
            "8051    wellness\n",
            "8055    wellness\n",
            "8061    wellness\n",
            "8066    wellness\n",
            "8070    wellness\n",
            "8074    wellness\n",
            "Name: ENCOUNTERCLASS, dtype: object\n",
            "8039    NaN\n",
            "8047    NaN\n",
            "8051    NaN\n",
            "8055    NaN\n",
            "8061    NaN\n",
            "8066    NaN\n",
            "8070    NaN\n",
            "8074    NaN\n",
            "Name: REASONDESCRIPTION, dtype: object\n",
            "24804    wellness\n",
            "24805    wellness\n",
            "24806    wellness\n",
            "24807    wellness\n",
            "Name: ENCOUNTERCLASS, dtype: object\n",
            "24804    NaN\n",
            "24805    NaN\n",
            "24806    NaN\n",
            "24807    NaN\n",
            "Name: REASONDESCRIPTION, dtype: object\n",
            "17720    wellness\n",
            "17721    wellness\n",
            "17722    wellness\n",
            "17723    wellness\n",
            "17724    wellness\n",
            "Name: ENCOUNTERCLASS, dtype: object\n",
            "17720    NaN\n",
            "17721    NaN\n",
            "17722    NaN\n",
            "17723    NaN\n",
            "17724    NaN\n",
            "Name: REASONDESCRIPTION, dtype: object\n",
            "37149    wellness\n",
            "37150    wellness\n",
            "37151    wellness\n",
            "37152    wellness\n",
            "37153    wellness\n",
            "Name: ENCOUNTERCLASS, dtype: object\n",
            "37149    NaN\n",
            "37150    NaN\n",
            "37151    NaN\n",
            "37152    NaN\n",
            "37153    NaN\n",
            "Name: REASONDESCRIPTION, dtype: object\n",
            "1906    wellness\n",
            "1907    wellness\n",
            "Name: ENCOUNTERCLASS, dtype: object\n",
            "1906    NaN\n",
            "1907    NaN\n",
            "Name: REASONDESCRIPTION, dtype: object\n",
            "6345    wellness\n",
            "6346    wellness\n",
            "6347    wellness\n",
            "6348    wellness\n",
            "6349    wellness\n",
            "6350    wellness\n",
            "6351    wellness\n",
            "6352    wellness\n",
            "Name: ENCOUNTERCLASS, dtype: object\n",
            "6345    NaN\n",
            "6346    NaN\n",
            "6347    NaN\n",
            "6348    NaN\n",
            "6349    NaN\n",
            "6350    NaN\n",
            "6351    NaN\n",
            "6352    NaN\n",
            "Name: REASONDESCRIPTION, dtype: object\n",
            "7565    wellness\n",
            "7566    wellness\n",
            "7567    wellness\n",
            "7568    wellness\n",
            "7569    wellness\n",
            "7570    wellness\n",
            "Name: ENCOUNTERCLASS, dtype: object\n",
            "7565    NaN\n",
            "7566    NaN\n",
            "7567    NaN\n",
            "7568    NaN\n",
            "7569    NaN\n",
            "7570    NaN\n",
            "Name: REASONDESCRIPTION, dtype: object\n",
            "1409    wellness\n",
            "1410    wellness\n",
            "1411    wellness\n",
            "1412    wellness\n",
            "1413    wellness\n",
            "1414    wellness\n",
            "1415    wellness\n",
            "1416    wellness\n",
            "Name: ENCOUNTERCLASS, dtype: object\n",
            "1409    NaN\n",
            "1410    NaN\n",
            "1411    NaN\n",
            "1412    NaN\n",
            "1413    NaN\n",
            "1414    NaN\n",
            "1415    NaN\n",
            "1416    NaN\n",
            "Name: REASONDESCRIPTION, dtype: object\n",
            "5817    wellness\n",
            "5821    wellness\n",
            "5822    wellness\n",
            "5824    wellness\n",
            "5827    wellness\n",
            "5831    wellness\n",
            "5832    wellness\n",
            "5833    wellness\n",
            "5834    wellness\n",
            "Name: ENCOUNTERCLASS, dtype: object\n",
            "5817    NaN\n",
            "5821    NaN\n",
            "5822    NaN\n",
            "5824    NaN\n",
            "5827    NaN\n",
            "5831    NaN\n",
            "5832    NaN\n",
            "5833    NaN\n",
            "5834    NaN\n",
            "Name: REASONDESCRIPTION, dtype: object\n",
            "11849      wellness\n",
            "11850      wellness\n",
            "11851      wellness\n",
            "11852      wellness\n",
            "11853      wellness\n",
            "11854      wellness\n",
            "11855    outpatient\n",
            "11856      wellness\n",
            "11857    outpatient\n",
            "11858      wellness\n",
            "11859      wellness\n",
            "11860      wellness\n",
            "Name: ENCOUNTERCLASS, dtype: object\n",
            "11849    NaN\n",
            "11850    NaN\n",
            "11851    NaN\n",
            "11852    NaN\n",
            "11853    NaN\n",
            "11854    NaN\n",
            "11855    NaN\n",
            "11856    NaN\n",
            "11857    NaN\n",
            "11858    NaN\n",
            "11859    NaN\n",
            "11860    NaN\n",
            "Name: REASONDESCRIPTION, dtype: object\n"
          ]
        }
      ]
    },
    {
      "cell_type": "code",
      "metadata": {
        "colab": {
          "base_uri": "https://localhost:8080/",
          "height": 291
        },
        "id": "oyc-DdgLRD7C",
        "outputId": "b2265872-228a-474b-f9dc-6a8b944a641c"
      },
      "source": [
        "# interesting observation as wellness checkness or outpatient have no problem detected as it seems\n",
        "# so patients are in the hospital for allergies and conditions and encounter has all patients but not wellness and outpatient?\n",
        "\n",
        "# distribution in encounter distribution\n",
        "encounter_distribution = dict(df_encounter[\"REASONDESCRIPTION\"].value_counts())\n",
        "print(encounter_distribution)\n",
        "plt.bar(range(len(encounter_distribution)),list(encounter_distribution.values()),tick_label=list(encounter_distribution.keys()))\n",
        "plt.xticks([],rotation=90)\n",
        "plt.show()"
      ],
      "execution_count": null,
      "outputs": [
        {
          "output_type": "stream",
          "name": "stdout",
          "text": [
            "{'Normal pregnancy': 3779, 'Hyperlipidemia': 2273, 'Viral sinusitis (disorder)': 1378, 'Acute viral pharyngitis (disorder)': 691, 'Acute bronchitis (disorder)': 690, 'Chronic congestive heart failure (disorder)': 620, 'Malignant neoplasm of breast (disorder)': 585, 'Child attention deficit disorder': 287, 'Sinusitis (disorder)': 265, 'Anemia (disorder)': 248, 'Acute bacterial sinusitis (disorder)': 227, 'Asthma': 201, 'Otitis media': 197, 'Childhood asthma': 195, 'Drug overdose': 184, 'Streptococcal sore throat (disorder)': 162, 'Impacted molars': 129, 'Chronic pain': 123, 'Chronic intractable migraine without aura': 121, 'Appendicitis': 100, 'Concussion with no loss of consciousness': 79, 'Osteoarthritis of knee': 65, 'Malignant tumor of colon': 61, 'Major depression disorder': 60, 'Seizure disorder': 59, 'Escherichia coli urinary tract infection': 58, 'Fetus with unknown complication': 50, 'Neoplasm of prostate': 47, 'Fracture of forearm': 45, \"Alzheimer's disease (disorder)\": 44, 'Cystitis': 42, 'Fracture subluxation of wrist': 40, 'Perennial allergic rhinitis': 39, 'Perennial allergic rhinitis with seasonal variation': 38, 'Overlapping malignant neoplasm of colon': 38, 'Primary small cell malignant neoplasm of lung  TNM stage 1 (disorder)': 32, 'Fracture of ankle': 31, 'Suspected lung cancer (situation)': 30, 'Atopic dermatitis': 27, 'Fracture of clavicle': 26, 'Secondary malignant neoplasm of colon': 26, 'Injury of tendon of the rotator cuff of shoulder': 26, 'Localized  primary osteoarthritis of the hand': 26, 'Concussion with loss of consciousness': 23, 'Seasonal allergic rhinitis': 21, 'Osteoarthritis of hip': 21, 'First degree burn': 20, 'Second degree burn': 19, 'Idiopathic atrophic hypothyroidism': 18, 'Fracture of rib': 18, 'Blighted ovum': 17, 'Non-small cell lung cancer (disorder)': 14, 'Non-small cell carcinoma of lung  TNM stage 1 (disorder)': 14, 'Tubal pregnancy': 14, 'Injury of medial collateral ligament of knee': 13, 'Closed fracture of hip': 11, 'Posttraumatic stress disorder': 11, \"Familial Alzheimer's disease of early onset (disorder)\": 11, 'Major depression  single episode': 10, 'Pneumonia': 8, 'Rupture of patellar tendon': 7, 'Bleeding from anus': 7, 'Fetus with chromosomal abnormality': 7, 'Polyp of colon': 6, 'Gout': 6, 'Concussion injury of brain': 5, 'Contact dermatitis': 5, 'Injury of anterior cruciate ligament': 4, 'Pulmonary emphysema (disorder)': 3, 'Primary malignant neoplasm of colon': 3, 'Congenital uterine anomaly': 3, 'Primary fibromyalgia syndrome': 3, 'Bullet wound': 2, 'Rheumatoid arthritis': 2, 'Fracture of vertebral column without spinal cord injury': 2, 'Small cell carcinoma of lung (disorder)': 1, 'Laparoscopic Removal of Gall Bladder': 1, 'Complication occuring during pregnancy': 1, 'Pyelonephritis': 1, 'Acute Cholecystitis': 1}\n"
          ]
        },
        {
          "output_type": "display_data",
          "data": {
            "image/png": "[encoded data removed]",
            "text/plain": [
              "<Figure size 432x288 with 1 Axes>"
            ]
          },
          "metadata": {
            "needs_background": "light"
          }
        }
      ]
    },
    {
      "cell_type": "code",
      "metadata": {
        "colab": {
          "base_uri": "https://localhost:8080/",
          "height": 80
        },
        "id": "nahvmULQTuTS",
        "outputId": "46119e71-4440-4e25-c5ae-f435b0952f2a"
      },
      "source": [
        "df_conditions[df_conditions[\"PATIENT\"]==df_encounter[\"PATIENT\"][0]]"
      ],
      "execution_count": null,
      "outputs": [
        {
          "output_type": "execute_result",
          "data": {
            "text/html": [
              "<div>\n",
              "<style scoped>\n",
              "    .dataframe tbody tr th:only-of-type {\n",
              "        vertical-align: middle;\n",
              "    }\n",
              "\n",
              "    .dataframe tbody tr th {\n",
              "        vertical-align: top;\n",
              "    }\n",
              "\n",
              "    .dataframe thead th {\n",
              "        text-align: right;\n",
              "    }\n",
              "</style>\n",
              "<table border=\"1\" class=\"dataframe\">\n",
              "  <thead>\n",
              "    <tr style=\"text-align: right;\">\n",
              "      <th></th>\n",
              "      <th>START</th>\n",
              "      <th>STOP</th>\n",
              "      <th>PATIENT</th>\n",
              "      <th>ENCOUNTER</th>\n",
              "      <th>CODE</th>\n",
              "      <th>DESCRIPTION</th>\n",
              "    </tr>\n",
              "  </thead>\n",
              "  <tbody>\n",
              "    <tr>\n",
              "      <th>9</th>\n",
              "      <td>2016-12-29</td>\n",
              "      <td>2017-01-05</td>\n",
              "      <td>034e9e3b-2def-4559-bb2a-7850888ae060</td>\n",
              "      <td>3b639086-5fbc-4720-8c31-e8c8c0f1d660</td>\n",
              "      <td>10509002</td>\n",
              "      <td>Acute bronchitis (disorder)</td>\n",
              "    </tr>\n",
              "  </tbody>\n",
              "</table>\n",
              "</div>"
            ],
            "text/plain": [
              "        START        STOP  ...      CODE                  DESCRIPTION\n",
              "9  2016-12-29  2017-01-05  ...  10509002  Acute bronchitis (disorder)\n",
              "\n",
              "[1 rows x 6 columns]"
            ]
          },
          "metadata": {},
          "execution_count": 33
        }
      ]
    },
    {
      "cell_type": "code",
      "metadata": {
        "colab": {
          "base_uri": "https://localhost:8080/"
        },
        "id": "3PzEmh6VUvBq",
        "outputId": "34cd2c6f-aa80-44b6-f8bd-4687021d9375"
      },
      "source": [
        "df_encounter.iloc[0]"
      ],
      "execution_count": null,
      "outputs": [
        {
          "output_type": "execute_result",
          "data": {
            "text/plain": [
              "Id                     d0c40d10-8d87-447e-836e-99d26ad52ea5\n",
              "START                                  2010-01-23T17:45:28Z\n",
              "STOP                                   2010-01-23T18:10:28Z\n",
              "PATIENT                034e9e3b-2def-4559-bb2a-7850888ae060\n",
              "ORGANIZATION           e002090d-4e92-300e-b41e-7d1f21dee4c6\n",
              "PROVIDER               e6283e46-fd81-3611-9459-0edb1c3da357\n",
              "PAYER                  6e2f1a2d-27bd-3701-8d08-dae202c58632\n",
              "ENCOUNTERCLASS                                   ambulatory\n",
              "CODE                                              185345009\n",
              "DESCRIPTION                           Encounter for symptom\n",
              "BASE_ENCOUNTER_COST                                  129.16\n",
              "TOTAL_CLAIM_COST                                     129.16\n",
              "PAYER_COVERAGE                                        54.16\n",
              "REASONCODE                                       1.0509e+07\n",
              "REASONDESCRIPTION               Acute bronchitis (disorder)\n",
              "Name: 0, dtype: object"
            ]
          },
          "metadata": {},
          "execution_count": 34
        }
      ]
    },
    {
      "cell_type": "code",
      "metadata": {
        "colab": {
          "base_uri": "https://localhost:8080/",
          "height": 556
        },
        "id": "Ga4luU6FVIDe",
        "outputId": "03af9ba1-98fb-45b5-f9b3-9c481d7e2ace"
      },
      "source": [
        "df_encounter[df_encounter[\"PATIENT\"]==df_encounter[\"PATIENT\"][0]]"
      ],
      "execution_count": null,
      "outputs": [
        {
          "output_type": "execute_result",
          "data": {
            "text/html": [
              "<div>\n",
              "<style scoped>\n",
              "    .dataframe tbody tr th:only-of-type {\n",
              "        vertical-align: middle;\n",
              "    }\n",
              "\n",
              "    .dataframe tbody tr th {\n",
              "        vertical-align: top;\n",
              "    }\n",
              "\n",
              "    .dataframe thead th {\n",
              "        text-align: right;\n",
              "    }\n",
              "</style>\n",
              "<table border=\"1\" class=\"dataframe\">\n",
              "  <thead>\n",
              "    <tr style=\"text-align: right;\">\n",
              "      <th></th>\n",
              "      <th>Id</th>\n",
              "      <th>START</th>\n",
              "      <th>STOP</th>\n",
              "      <th>PATIENT</th>\n",
              "      <th>ORGANIZATION</th>\n",
              "      <th>PROVIDER</th>\n",
              "      <th>PAYER</th>\n",
              "      <th>ENCOUNTERCLASS</th>\n",
              "      <th>CODE</th>\n",
              "      <th>DESCRIPTION</th>\n",
              "      <th>BASE_ENCOUNTER_COST</th>\n",
              "      <th>TOTAL_CLAIM_COST</th>\n",
              "      <th>PAYER_COVERAGE</th>\n",
              "      <th>REASONCODE</th>\n",
              "      <th>REASONDESCRIPTION</th>\n",
              "    </tr>\n",
              "  </thead>\n",
              "  <tbody>\n",
              "    <tr>\n",
              "      <th>0</th>\n",
              "      <td>d0c40d10-8d87-447e-836e-99d26ad52ea5</td>\n",
              "      <td>2010-01-23T17:45:28Z</td>\n",
              "      <td>2010-01-23T18:10:28Z</td>\n",
              "      <td>034e9e3b-2def-4559-bb2a-7850888ae060</td>\n",
              "      <td>e002090d-4e92-300e-b41e-7d1f21dee4c6</td>\n",
              "      <td>e6283e46-fd81-3611-9459-0edb1c3da357</td>\n",
              "      <td>6e2f1a2d-27bd-3701-8d08-dae202c58632</td>\n",
              "      <td>ambulatory</td>\n",
              "      <td>185345009</td>\n",
              "      <td>Encounter for symptom</td>\n",
              "      <td>129.16</td>\n",
              "      <td>129.16</td>\n",
              "      <td>54.16</td>\n",
              "      <td>10509002.0</td>\n",
              "      <td>Acute bronchitis (disorder)</td>\n",
              "    </tr>\n",
              "    <tr>\n",
              "      <th>1</th>\n",
              "      <td>e88bc3a9-007c-405e-aabc-792a38f4aa2b</td>\n",
              "      <td>2012-01-23T17:45:28Z</td>\n",
              "      <td>2012-01-23T18:00:28Z</td>\n",
              "      <td>034e9e3b-2def-4559-bb2a-7850888ae060</td>\n",
              "      <td>772ee193-bb9f-30eb-9939-21e86c8e4da5</td>\n",
              "      <td>6f1d59a7-a5bd-3cf9-9671-5bad2f351c28</td>\n",
              "      <td>6e2f1a2d-27bd-3701-8d08-dae202c58632</td>\n",
              "      <td>wellness</td>\n",
              "      <td>162673000</td>\n",
              "      <td>General examination of patient (procedure)</td>\n",
              "      <td>129.16</td>\n",
              "      <td>129.16</td>\n",
              "      <td>129.16</td>\n",
              "      <td>NaN</td>\n",
              "      <td>NaN</td>\n",
              "    </tr>\n",
              "    <tr>\n",
              "      <th>14</th>\n",
              "      <td>e3639187-450a-4aa9-9fc9-3ea3cafa672b</td>\n",
              "      <td>2015-01-26T17:45:28Z</td>\n",
              "      <td>2015-01-26T18:15:28Z</td>\n",
              "      <td>034e9e3b-2def-4559-bb2a-7850888ae060</td>\n",
              "      <td>772ee193-bb9f-30eb-9939-21e86c8e4da5</td>\n",
              "      <td>6f1d59a7-a5bd-3cf9-9671-5bad2f351c28</td>\n",
              "      <td>6e2f1a2d-27bd-3701-8d08-dae202c58632</td>\n",
              "      <td>wellness</td>\n",
              "      <td>162673000</td>\n",
              "      <td>General examination of patient (procedure)</td>\n",
              "      <td>129.16</td>\n",
              "      <td>129.16</td>\n",
              "      <td>129.16</td>\n",
              "      <td>NaN</td>\n",
              "      <td>NaN</td>\n",
              "    </tr>\n",
              "    <tr>\n",
              "      <th>26</th>\n",
              "      <td>3b639086-5fbc-4720-8c31-e8c8c0f1d660</td>\n",
              "      <td>2016-12-29T17:45:28Z</td>\n",
              "      <td>2016-12-29T18:00:28Z</td>\n",
              "      <td>034e9e3b-2def-4559-bb2a-7850888ae060</td>\n",
              "      <td>e002090d-4e92-300e-b41e-7d1f21dee4c6</td>\n",
              "      <td>e6283e46-fd81-3611-9459-0edb1c3da357</td>\n",
              "      <td>6e2f1a2d-27bd-3701-8d08-dae202c58632</td>\n",
              "      <td>ambulatory</td>\n",
              "      <td>185345009</td>\n",
              "      <td>Encounter for symptom</td>\n",
              "      <td>129.16</td>\n",
              "      <td>129.16</td>\n",
              "      <td>54.16</td>\n",
              "      <td>10509002.0</td>\n",
              "      <td>Acute bronchitis (disorder)</td>\n",
              "    </tr>\n",
              "    <tr>\n",
              "      <th>35</th>\n",
              "      <td>4607e1a1-f2bb-42c8-a2fd-8709331a935d</td>\n",
              "      <td>2017-01-09T17:45:28Z</td>\n",
              "      <td>2017-01-09T18:00:28Z</td>\n",
              "      <td>034e9e3b-2def-4559-bb2a-7850888ae060</td>\n",
              "      <td>69176529-fd1f-3b3f-abce-a0a3626769eb</td>\n",
              "      <td>c9b3c857-2e24-320c-a79a-87b8a60de63c</td>\n",
              "      <td>6e2f1a2d-27bd-3701-8d08-dae202c58632</td>\n",
              "      <td>outpatient</td>\n",
              "      <td>185349003</td>\n",
              "      <td>Encounter for check up (procedure)</td>\n",
              "      <td>129.16</td>\n",
              "      <td>129.16</td>\n",
              "      <td>54.16</td>\n",
              "      <td>NaN</td>\n",
              "      <td>NaN</td>\n",
              "    </tr>\n",
              "    <tr>\n",
              "      <th>41</th>\n",
              "      <td>1b3d7c95-f4d3-4dfb-83de-8773f5ce01f7</td>\n",
              "      <td>2018-01-29T17:45:28Z</td>\n",
              "      <td>2018-01-29T18:00:28Z</td>\n",
              "      <td>034e9e3b-2def-4559-bb2a-7850888ae060</td>\n",
              "      <td>772ee193-bb9f-30eb-9939-21e86c8e4da5</td>\n",
              "      <td>6f1d59a7-a5bd-3cf9-9671-5bad2f351c28</td>\n",
              "      <td>6e2f1a2d-27bd-3701-8d08-dae202c58632</td>\n",
              "      <td>wellness</td>\n",
              "      <td>162673000</td>\n",
              "      <td>General examination of patient (procedure)</td>\n",
              "      <td>129.16</td>\n",
              "      <td>129.16</td>\n",
              "      <td>129.16</td>\n",
              "      <td>NaN</td>\n",
              "      <td>NaN</td>\n",
              "    </tr>\n",
              "  </tbody>\n",
              "</table>\n",
              "</div>"
            ],
            "text/plain": [
              "                                      Id  ...            REASONDESCRIPTION\n",
              "0   d0c40d10-8d87-447e-836e-99d26ad52ea5  ...  Acute bronchitis (disorder)\n",
              "1   e88bc3a9-007c-405e-aabc-792a38f4aa2b  ...                          NaN\n",
              "14  e3639187-450a-4aa9-9fc9-3ea3cafa672b  ...                          NaN\n",
              "26  3b639086-5fbc-4720-8c31-e8c8c0f1d660  ...  Acute bronchitis (disorder)\n",
              "35  4607e1a1-f2bb-42c8-a2fd-8709331a935d  ...                          NaN\n",
              "41  1b3d7c95-f4d3-4dfb-83de-8773f5ce01f7  ...                          NaN\n",
              "\n",
              "[6 rows x 15 columns]"
            ]
          },
          "metadata": {},
          "execution_count": 35
        }
      ]
    },
    {
      "cell_type": "markdown",
      "metadata": {
        "id": "VzHPWSEmYDzJ"
      },
      "source": [
        "# Imaging Studies.csv"
      ]
    },
    {
      "cell_type": "code",
      "metadata": {
        "colab": {
          "base_uri": "https://localhost:8080/",
          "height": 475
        },
        "id": "02fptbmeW8Oa",
        "outputId": "76a2d721-e7f4-4a93-9f01-a7ec1faf9794"
      },
      "source": [
        "df_imaging = pd.read_csv(\"/content/drive/MyDrive/csv/imaging_studies.csv\")\n",
        "df_imaging.head()"
      ],
      "execution_count": null,
      "outputs": [
        {
          "output_type": "execute_result",
          "data": {
            "text/html": [
              "<div>\n",
              "<style scoped>\n",
              "    .dataframe tbody tr th:only-of-type {\n",
              "        vertical-align: middle;\n",
              "    }\n",
              "\n",
              "    .dataframe tbody tr th {\n",
              "        vertical-align: top;\n",
              "    }\n",
              "\n",
              "    .dataframe thead th {\n",
              "        text-align: right;\n",
              "    }\n",
              "</style>\n",
              "<table border=\"1\" class=\"dataframe\">\n",
              "  <thead>\n",
              "    <tr style=\"text-align: right;\">\n",
              "      <th></th>\n",
              "      <th>Id</th>\n",
              "      <th>DATE</th>\n",
              "      <th>PATIENT</th>\n",
              "      <th>ENCOUNTER</th>\n",
              "      <th>BODYSITE_CODE</th>\n",
              "      <th>BODYSITE_DESCRIPTION</th>\n",
              "      <th>MODALITY_CODE</th>\n",
              "      <th>MODALITY_DESCRIPTION</th>\n",
              "      <th>SOP_CODE</th>\n",
              "      <th>SOP_DESCRIPTION</th>\n",
              "    </tr>\n",
              "  </thead>\n",
              "  <tbody>\n",
              "    <tr>\n",
              "      <th>0</th>\n",
              "      <td>d3e49b38-7634-4416-879d-7bc68bf3e7df</td>\n",
              "      <td>2014-07-08T15:35:36Z</td>\n",
              "      <td>b58731cc-2d8b-4c2d-b327-4cab771af3ef</td>\n",
              "      <td>3a36836d-da25-4e73-808b-972b669b7e4e</td>\n",
              "      <td>40983000</td>\n",
              "      <td>Arm</td>\n",
              "      <td>DX</td>\n",
              "      <td>Digital Radiography</td>\n",
              "      <td>1.2.840.10008.5.1.4.1.1.1.1</td>\n",
              "      <td>Digital X-Ray Image Storage</td>\n",
              "    </tr>\n",
              "    <tr>\n",
              "      <th>1</th>\n",
              "      <td>46baf530-4941-40ab-8219-685a08fd9086</td>\n",
              "      <td>2014-01-22T18:58:37Z</td>\n",
              "      <td>2ffe9369-24e4-414b-8973-258fad09313a</td>\n",
              "      <td>33b71e4b-0690-4fe9-897a-dc3b2ff9215c</td>\n",
              "      <td>40983000</td>\n",
              "      <td>Arm</td>\n",
              "      <td>DX</td>\n",
              "      <td>Digital Radiography</td>\n",
              "      <td>1.2.840.10008.5.1.4.1.1.1.1</td>\n",
              "      <td>Digital X-Ray Image Storage</td>\n",
              "    </tr>\n",
              "    <tr>\n",
              "      <th>2</th>\n",
              "      <td>b8fb8a6e-a2f5-46c9-8b3f-a35aa982efcd</td>\n",
              "      <td>2001-12-01T02:08:27Z</td>\n",
              "      <td>86b97fc7-ae8f-4e0d-8e66-db68f36e7a76</td>\n",
              "      <td>e42d1046-568d-46c2-b0a5-d910b2f3bd1d</td>\n",
              "      <td>8205005</td>\n",
              "      <td>Wrist</td>\n",
              "      <td>DX</td>\n",
              "      <td>Digital Radiography</td>\n",
              "      <td>1.2.840.10008.5.1.4.1.1.1.1</td>\n",
              "      <td>Digital X-Ray Image Storage</td>\n",
              "    </tr>\n",
              "    <tr>\n",
              "      <th>3</th>\n",
              "      <td>10c8a016-4504-4653-bddf-2dd3610886c8</td>\n",
              "      <td>2004-07-03T20:46:46Z</td>\n",
              "      <td>71ba0469-f0cc-4177-ac70-ea07cb01c8b8</td>\n",
              "      <td>323fca87-817f-4d58-8486-ba92ea739399</td>\n",
              "      <td>51299004</td>\n",
              "      <td>Clavicle</td>\n",
              "      <td>DX</td>\n",
              "      <td>Digital Radiography</td>\n",
              "      <td>1.2.840.10008.5.1.4.1.1.1.1</td>\n",
              "      <td>Digital X-Ray Image Storage</td>\n",
              "    </tr>\n",
              "    <tr>\n",
              "      <th>4</th>\n",
              "      <td>4221534c-d379-4c6b-a22e-d7eae3fa2609</td>\n",
              "      <td>2017-02-08T08:42:44Z</td>\n",
              "      <td>d49f748f-928d-40e8-92c8-73e4c5679711</td>\n",
              "      <td>cfef48b3-b769-4794-a3e7-f57f7ba8d387</td>\n",
              "      <td>344001</td>\n",
              "      <td>Ankle</td>\n",
              "      <td>DX</td>\n",
              "      <td>Digital Radiography</td>\n",
              "      <td>1.2.840.10008.5.1.4.1.1.1.1</td>\n",
              "      <td>Digital X-Ray Image Storage</td>\n",
              "    </tr>\n",
              "  </tbody>\n",
              "</table>\n",
              "</div>"
            ],
            "text/plain": [
              "                                     Id  ...              SOP_DESCRIPTION\n",
              "0  d3e49b38-7634-4416-879d-7bc68bf3e7df  ...  Digital X-Ray Image Storage\n",
              "1  46baf530-4941-40ab-8219-685a08fd9086  ...  Digital X-Ray Image Storage\n",
              "2  b8fb8a6e-a2f5-46c9-8b3f-a35aa982efcd  ...  Digital X-Ray Image Storage\n",
              "3  10c8a016-4504-4653-bddf-2dd3610886c8  ...  Digital X-Ray Image Storage\n",
              "4  4221534c-d379-4c6b-a22e-d7eae3fa2609  ...  Digital X-Ray Image Storage\n",
              "\n",
              "[5 rows x 10 columns]"
            ]
          },
          "metadata": {},
          "execution_count": 36
        }
      ]
    },
    {
      "cell_type": "code",
      "metadata": {
        "colab": {
          "base_uri": "https://localhost:8080/"
        },
        "id": "8GO-MRckYMwg",
        "outputId": "e4f7995f-9b1d-4e20-e979-f1e151fbd3e1"
      },
      "source": [
        "df_imaging.columns"
      ],
      "execution_count": null,
      "outputs": [
        {
          "output_type": "execute_result",
          "data": {
            "text/plain": [
              "Index(['Id', 'DATE', 'PATIENT', 'ENCOUNTER', 'BODYSITE_CODE',\n",
              "       'BODYSITE_DESCRIPTION', 'MODALITY_CODE', 'MODALITY_DESCRIPTION',\n",
              "       'SOP_CODE', 'SOP_DESCRIPTION'],\n",
              "      dtype='object')"
            ]
          },
          "metadata": {},
          "execution_count": 37
        }
      ]
    },
    {
      "cell_type": "code",
      "metadata": {
        "colab": {
          "base_uri": "https://localhost:8080/"
        },
        "id": "xLE9S2qJYQ3U",
        "outputId": "d8eb1e0e-80cc-4caf-9a20-857bafed6457"
      },
      "source": [
        "df_imaging.shape"
      ],
      "execution_count": null,
      "outputs": [
        {
          "output_type": "execute_result",
          "data": {
            "text/plain": [
              "(855, 10)"
            ]
          },
          "metadata": {},
          "execution_count": 38
        }
      ]
    },
    {
      "cell_type": "markdown",
      "metadata": {
        "id": "eHyIb76WGZES"
      },
      "source": [
        "# medication.csv"
      ]
    },
    {
      "cell_type": "code",
      "metadata": {
        "colab": {
          "base_uri": "https://localhost:8080/",
          "height": 492
        },
        "id": "RImVopMhYWdm",
        "outputId": "7d278f2d-1734-4e2d-d3b7-241db24a7bcb"
      },
      "source": [
        "df_medication = pd.read_csv(\"/content/drive/MyDrive/csv/medications.csv\")\n",
        "df_medication.head()"
      ],
      "execution_count": null,
      "outputs": [
        {
          "output_type": "execute_result",
          "data": {
            "text/html": [
              "<div>\n",
              "<style scoped>\n",
              "    .dataframe tbody tr th:only-of-type {\n",
              "        vertical-align: middle;\n",
              "    }\n",
              "\n",
              "    .dataframe tbody tr th {\n",
              "        vertical-align: top;\n",
              "    }\n",
              "\n",
              "    .dataframe thead th {\n",
              "        text-align: right;\n",
              "    }\n",
              "</style>\n",
              "<table border=\"1\" class=\"dataframe\">\n",
              "  <thead>\n",
              "    <tr style=\"text-align: right;\">\n",
              "      <th></th>\n",
              "      <th>START</th>\n",
              "      <th>STOP</th>\n",
              "      <th>PATIENT</th>\n",
              "      <th>PAYER</th>\n",
              "      <th>ENCOUNTER</th>\n",
              "      <th>CODE</th>\n",
              "      <th>DESCRIPTION</th>\n",
              "      <th>BASE_COST</th>\n",
              "      <th>PAYER_COVERAGE</th>\n",
              "      <th>DISPENSES</th>\n",
              "      <th>TOTALCOST</th>\n",
              "      <th>REASONCODE</th>\n",
              "      <th>REASONDESCRIPTION</th>\n",
              "    </tr>\n",
              "  </thead>\n",
              "  <tbody>\n",
              "    <tr>\n",
              "      <th>0</th>\n",
              "      <td>2010-05-05T00:26:23Z</td>\n",
              "      <td>2011-04-30T00:26:23Z</td>\n",
              "      <td>8d4c4326-e9de-4f45-9a4c-f8c36bff89ae</td>\n",
              "      <td>b1c428d6-4f07-31e0-90f0-68ffa6ff8c76</td>\n",
              "      <td>1e0d6b0e-1711-4a25-99f9-b1c700c9b260</td>\n",
              "      <td>389221</td>\n",
              "      <td>Etonogestrel 68 MG Drug Implant</td>\n",
              "      <td>677.08</td>\n",
              "      <td>0.0</td>\n",
              "      <td>12</td>\n",
              "      <td>8124.96</td>\n",
              "      <td>NaN</td>\n",
              "      <td>NaN</td>\n",
              "    </tr>\n",
              "    <tr>\n",
              "      <th>1</th>\n",
              "      <td>2011-04-30T00:26:23Z</td>\n",
              "      <td>2012-04-24T00:26:23Z</td>\n",
              "      <td>8d4c4326-e9de-4f45-9a4c-f8c36bff89ae</td>\n",
              "      <td>b1c428d6-4f07-31e0-90f0-68ffa6ff8c76</td>\n",
              "      <td>6aa37300-d1b4-48e7-a2f8-5e0f70f48f38</td>\n",
              "      <td>389221</td>\n",
              "      <td>Etonogestrel 68 MG Drug Implant</td>\n",
              "      <td>624.09</td>\n",
              "      <td>0.0</td>\n",
              "      <td>12</td>\n",
              "      <td>7489.08</td>\n",
              "      <td>NaN</td>\n",
              "      <td>NaN</td>\n",
              "    </tr>\n",
              "    <tr>\n",
              "      <th>2</th>\n",
              "      <td>2012-04-24T00:26:23Z</td>\n",
              "      <td>2013-04-19T00:26:23Z</td>\n",
              "      <td>8d4c4326-e9de-4f45-9a4c-f8c36bff89ae</td>\n",
              "      <td>b1c428d6-4f07-31e0-90f0-68ffa6ff8c76</td>\n",
              "      <td>7253a9f9-6f6d-429a-926a-7b1d424eae3f</td>\n",
              "      <td>748856</td>\n",
              "      <td>Yaz 28 Day Pack</td>\n",
              "      <td>43.32</td>\n",
              "      <td>0.0</td>\n",
              "      <td>12</td>\n",
              "      <td>519.84</td>\n",
              "      <td>NaN</td>\n",
              "      <td>NaN</td>\n",
              "    </tr>\n",
              "    <tr>\n",
              "      <th>3</th>\n",
              "      <td>2011-05-13T12:58:08Z</td>\n",
              "      <td>2011-05-27T12:58:08Z</td>\n",
              "      <td>10339b10-3cd1-4ac3-ac13-ec26728cb592</td>\n",
              "      <td>d47b3510-2895-3b70-9897-342d681c769d</td>\n",
              "      <td>e1ab4933-07a1-49f0-b4bd-05500919061d</td>\n",
              "      <td>313782</td>\n",
              "      <td>Acetaminophen 325 MG Oral Tablet</td>\n",
              "      <td>8.14</td>\n",
              "      <td>0.0</td>\n",
              "      <td>1</td>\n",
              "      <td>8.14</td>\n",
              "      <td>10509002.0</td>\n",
              "      <td>Acute bronchitis (disorder)</td>\n",
              "    </tr>\n",
              "    <tr>\n",
              "      <th>4</th>\n",
              "      <td>2011-12-08T15:02:18Z</td>\n",
              "      <td>2011-12-22T15:02:18Z</td>\n",
              "      <td>1d604da9-9a81-4ba9-80c2-de3375d59b40</td>\n",
              "      <td>b1c428d6-4f07-31e0-90f0-68ffa6ff8c76</td>\n",
              "      <td>792fae81-a007-44b0-8221-46953737b089</td>\n",
              "      <td>562251</td>\n",
              "      <td>Amoxicillin 250 MG / Clavulanate 125 MG Oral T...</td>\n",
              "      <td>11.91</td>\n",
              "      <td>0.0</td>\n",
              "      <td>1</td>\n",
              "      <td>11.91</td>\n",
              "      <td>444814009.0</td>\n",
              "      <td>Viral sinusitis (disorder)</td>\n",
              "    </tr>\n",
              "  </tbody>\n",
              "</table>\n",
              "</div>"
            ],
            "text/plain": [
              "                  START  ...            REASONDESCRIPTION\n",
              "0  2010-05-05T00:26:23Z  ...                          NaN\n",
              "1  2011-04-30T00:26:23Z  ...                          NaN\n",
              "2  2012-04-24T00:26:23Z  ...                          NaN\n",
              "3  2011-05-13T12:58:08Z  ...  Acute bronchitis (disorder)\n",
              "4  2011-12-08T15:02:18Z  ...   Viral sinusitis (disorder)\n",
              "\n",
              "[5 rows x 13 columns]"
            ]
          },
          "metadata": {},
          "execution_count": 40
        }
      ]
    },
    {
      "cell_type": "code",
      "metadata": {
        "colab": {
          "base_uri": "https://localhost:8080/",
          "height": 1000
        },
        "id": "DHvlKknpSt4e",
        "outputId": "0babbba8-b56d-4289-ff20-64ef2e6f8f20"
      },
      "source": [
        "df_medication[df_medication[\"CODE\"]==562251]"
      ],
      "execution_count": null,
      "outputs": [
        {
          "output_type": "execute_result",
          "data": {
            "text/html": [
              "<div>\n",
              "<style scoped>\n",
              "    .dataframe tbody tr th:only-of-type {\n",
              "        vertical-align: middle;\n",
              "    }\n",
              "\n",
              "    .dataframe tbody tr th {\n",
              "        vertical-align: top;\n",
              "    }\n",
              "\n",
              "    .dataframe thead th {\n",
              "        text-align: right;\n",
              "    }\n",
              "</style>\n",
              "<table border=\"1\" class=\"dataframe\">\n",
              "  <thead>\n",
              "    <tr style=\"text-align: right;\">\n",
              "      <th></th>\n",
              "      <th>START</th>\n",
              "      <th>STOP</th>\n",
              "      <th>PATIENT</th>\n",
              "      <th>PAYER</th>\n",
              "      <th>ENCOUNTER</th>\n",
              "      <th>CODE</th>\n",
              "      <th>DESCRIPTION</th>\n",
              "      <th>BASE_COST</th>\n",
              "      <th>PAYER_COVERAGE</th>\n",
              "      <th>DISPENSES</th>\n",
              "      <th>TOTALCOST</th>\n",
              "      <th>REASONCODE</th>\n",
              "      <th>REASONDESCRIPTION</th>\n",
              "    </tr>\n",
              "  </thead>\n",
              "  <tbody>\n",
              "    <tr>\n",
              "      <th>4</th>\n",
              "      <td>2011-12-08T15:02:18Z</td>\n",
              "      <td>2011-12-22T15:02:18Z</td>\n",
              "      <td>1d604da9-9a81-4ba9-80c2-de3375d59b40</td>\n",
              "      <td>b1c428d6-4f07-31e0-90f0-68ffa6ff8c76</td>\n",
              "      <td>792fae81-a007-44b0-8221-46953737b089</td>\n",
              "      <td>562251</td>\n",
              "      <td>Amoxicillin 250 MG / Clavulanate 125 MG Oral T...</td>\n",
              "      <td>11.91</td>\n",
              "      <td>0.0</td>\n",
              "      <td>1</td>\n",
              "      <td>11.91</td>\n",
              "      <td>444814009.0</td>\n",
              "      <td>Viral sinusitis (disorder)</td>\n",
              "    </tr>\n",
              "    <tr>\n",
              "      <th>8</th>\n",
              "      <td>2019-03-20T15:02:18Z</td>\n",
              "      <td>2019-04-10T15:02:18Z</td>\n",
              "      <td>1d604da9-9a81-4ba9-80c2-de3375d59b40</td>\n",
              "      <td>b1c428d6-4f07-31e0-90f0-68ffa6ff8c76</td>\n",
              "      <td>4e595f0c-f50f-461b-a04e-13b4e492350e</td>\n",
              "      <td>562251</td>\n",
              "      <td>Amoxicillin 250 MG / Clavulanate 125 MG Oral T...</td>\n",
              "      <td>29.89</td>\n",
              "      <td>0.0</td>\n",
              "      <td>1</td>\n",
              "      <td>29.89</td>\n",
              "      <td>444814009.0</td>\n",
              "      <td>Viral sinusitis (disorder)</td>\n",
              "    </tr>\n",
              "    <tr>\n",
              "      <th>263</th>\n",
              "      <td>2017-11-07T02:08:27Z</td>\n",
              "      <td>2017-11-21T02:08:27Z</td>\n",
              "      <td>86b97fc7-ae8f-4e0d-8e66-db68f36e7a76</td>\n",
              "      <td>6e2f1a2d-27bd-3701-8d08-dae202c58632</td>\n",
              "      <td>ca34b3e7-c5f2-4c27-b668-480705750d79</td>\n",
              "      <td>562251</td>\n",
              "      <td>Amoxicillin 250 MG / Clavulanate 125 MG Oral T...</td>\n",
              "      <td>46.93</td>\n",
              "      <td>0.0</td>\n",
              "      <td>1</td>\n",
              "      <td>46.93</td>\n",
              "      <td>444814009.0</td>\n",
              "      <td>Viral sinusitis (disorder)</td>\n",
              "    </tr>\n",
              "    <tr>\n",
              "      <th>388</th>\n",
              "      <td>2020-03-10T14:32:49Z</td>\n",
              "      <td>2020-03-31T14:32:49Z</td>\n",
              "      <td>518f83f3-a717-4705-a181-06e205df480b</td>\n",
              "      <td>4d71f845-a6a9-3c39-b242-14d25ef86a8d</td>\n",
              "      <td>ef520d69-8569-4b68-8271-4ff89e7ab20a</td>\n",
              "      <td>562251</td>\n",
              "      <td>Amoxicillin 250 MG / Clavulanate 125 MG Oral T...</td>\n",
              "      <td>82.94</td>\n",
              "      <td>0.0</td>\n",
              "      <td>1</td>\n",
              "      <td>82.94</td>\n",
              "      <td>444814009.0</td>\n",
              "      <td>Viral sinusitis (disorder)</td>\n",
              "    </tr>\n",
              "    <tr>\n",
              "      <th>508</th>\n",
              "      <td>2015-05-25T20:01:32Z</td>\n",
              "      <td>2015-06-15T20:01:32Z</td>\n",
              "      <td>2c634692-05d8-4122-9f46-dd9402e2cfc6</td>\n",
              "      <td>7c4411ce-02f1-39b5-b9ec-dfbea9ad3c1a</td>\n",
              "      <td>c9f1bb8e-e498-419a-b868-59815552379e</td>\n",
              "      <td>562251</td>\n",
              "      <td>Amoxicillin 250 MG / Clavulanate 125 MG Oral T...</td>\n",
              "      <td>49.02</td>\n",
              "      <td>0.0</td>\n",
              "      <td>1</td>\n",
              "      <td>49.02</td>\n",
              "      <td>444814009.0</td>\n",
              "      <td>Viral sinusitis (disorder)</td>\n",
              "    </tr>\n",
              "    <tr>\n",
              "      <th>...</th>\n",
              "      <td>...</td>\n",
              "      <td>...</td>\n",
              "      <td>...</td>\n",
              "      <td>...</td>\n",
              "      <td>...</td>\n",
              "      <td>...</td>\n",
              "      <td>...</td>\n",
              "      <td>...</td>\n",
              "      <td>...</td>\n",
              "      <td>...</td>\n",
              "      <td>...</td>\n",
              "      <td>...</td>\n",
              "      <td>...</td>\n",
              "    </tr>\n",
              "    <tr>\n",
              "      <th>42238</th>\n",
              "      <td>2013-08-14T12:14:09Z</td>\n",
              "      <td>2013-08-21T12:14:09Z</td>\n",
              "      <td>8caa111c-92a3-43df-973d-fc60735b9832</td>\n",
              "      <td>5059a55e-5d6e-34d1-b6cb-d83d16e57bcf</td>\n",
              "      <td>b35110b5-20b7-4ebf-84c5-62bf97ed94a3</td>\n",
              "      <td>562251</td>\n",
              "      <td>Amoxicillin 250 MG / Clavulanate 125 MG Oral T...</td>\n",
              "      <td>100.45</td>\n",
              "      <td>0.0</td>\n",
              "      <td>1</td>\n",
              "      <td>100.45</td>\n",
              "      <td>444814009.0</td>\n",
              "      <td>Viral sinusitis (disorder)</td>\n",
              "    </tr>\n",
              "    <tr>\n",
              "      <th>42246</th>\n",
              "      <td>1953-10-01T05:05:25Z</td>\n",
              "      <td>1953-10-08T05:05:25Z</td>\n",
              "      <td>b940dd35-39e3-49d9-918a-316db1e223e3</td>\n",
              "      <td>047f6ec3-6215-35eb-9608-f9dda363a44c</td>\n",
              "      <td>cdc29763-a278-42a8-94a9-103ac5033481</td>\n",
              "      <td>562251</td>\n",
              "      <td>Amoxicillin 250 MG / Clavulanate 125 MG Oral T...</td>\n",
              "      <td>11.62</td>\n",
              "      <td>0.0</td>\n",
              "      <td>1</td>\n",
              "      <td>11.62</td>\n",
              "      <td>444814009.0</td>\n",
              "      <td>Viral sinusitis (disorder)</td>\n",
              "    </tr>\n",
              "    <tr>\n",
              "      <th>42300</th>\n",
              "      <td>2020-04-05T20:02:50Z</td>\n",
              "      <td>2020-04-19T20:02:50Z</td>\n",
              "      <td>1bacaab1-708b-42fe-8f12-fbe97a725440</td>\n",
              "      <td>7caa7254-5050-3b5e-9eae-bd5ea30e809c</td>\n",
              "      <td>6787a41a-ef0d-4d94-86b8-d12027c4611a</td>\n",
              "      <td>562251</td>\n",
              "      <td>Amoxicillin 250 MG / Clavulanate 125 MG Oral T...</td>\n",
              "      <td>46.76</td>\n",
              "      <td>0.0</td>\n",
              "      <td>1</td>\n",
              "      <td>46.76</td>\n",
              "      <td>444814009.0</td>\n",
              "      <td>Viral sinusitis (disorder)</td>\n",
              "    </tr>\n",
              "    <tr>\n",
              "      <th>42401</th>\n",
              "      <td>2018-06-28T04:37:39Z</td>\n",
              "      <td>2018-07-12T04:37:39Z</td>\n",
              "      <td>73fc00f8-a341-4f62-be27-07c35c3460bc</td>\n",
              "      <td>7caa7254-5050-3b5e-9eae-bd5ea30e809c</td>\n",
              "      <td>0c4043fa-87f3-4cfd-98a3-00c8aef38434</td>\n",
              "      <td>562251</td>\n",
              "      <td>Amoxicillin 250 MG / Clavulanate 125 MG Oral T...</td>\n",
              "      <td>22.14</td>\n",
              "      <td>0.0</td>\n",
              "      <td>1</td>\n",
              "      <td>22.14</td>\n",
              "      <td>75498004.0</td>\n",
              "      <td>Acute bacterial sinusitis (disorder)</td>\n",
              "    </tr>\n",
              "    <tr>\n",
              "      <th>42403</th>\n",
              "      <td>2020-03-10T04:37:39Z</td>\n",
              "      <td>2020-03-17T04:37:39Z</td>\n",
              "      <td>73fc00f8-a341-4f62-be27-07c35c3460bc</td>\n",
              "      <td>7caa7254-5050-3b5e-9eae-bd5ea30e809c</td>\n",
              "      <td>a42243da-4483-4faf-985e-35abd555e97c</td>\n",
              "      <td>562251</td>\n",
              "      <td>Amoxicillin 250 MG / Clavulanate 125 MG Oral T...</td>\n",
              "      <td>115.42</td>\n",
              "      <td>0.0</td>\n",
              "      <td>1</td>\n",
              "      <td>115.42</td>\n",
              "      <td>444814009.0</td>\n",
              "      <td>Viral sinusitis (disorder)</td>\n",
              "    </tr>\n",
              "  </tbody>\n",
              "</table>\n",
              "<p>271 rows × 13 columns</p>\n",
              "</div>"
            ],
            "text/plain": [
              "                      START  ...                     REASONDESCRIPTION\n",
              "4      2011-12-08T15:02:18Z  ...            Viral sinusitis (disorder)\n",
              "8      2019-03-20T15:02:18Z  ...            Viral sinusitis (disorder)\n",
              "263    2017-11-07T02:08:27Z  ...            Viral sinusitis (disorder)\n",
              "388    2020-03-10T14:32:49Z  ...            Viral sinusitis (disorder)\n",
              "508    2015-05-25T20:01:32Z  ...            Viral sinusitis (disorder)\n",
              "...                     ...  ...                                   ...\n",
              "42238  2013-08-14T12:14:09Z  ...            Viral sinusitis (disorder)\n",
              "42246  1953-10-01T05:05:25Z  ...            Viral sinusitis (disorder)\n",
              "42300  2020-04-05T20:02:50Z  ...            Viral sinusitis (disorder)\n",
              "42401  2018-06-28T04:37:39Z  ...  Acute bacterial sinusitis (disorder)\n",
              "42403  2020-03-10T04:37:39Z  ...            Viral sinusitis (disorder)\n",
              "\n",
              "[271 rows x 13 columns]"
            ]
          },
          "metadata": {},
          "execution_count": 56
        }
      ]
    },
    {
      "cell_type": "code",
      "metadata": {
        "colab": {
          "base_uri": "https://localhost:8080/"
        },
        "id": "gV9boYzYGiS0",
        "outputId": "0b564a91-e1a5-4333-def4-929916cdcbb0"
      },
      "source": [
        "df_medication.shape"
      ],
      "execution_count": null,
      "outputs": [
        {
          "output_type": "execute_result",
          "data": {
            "text/plain": [
              "(42989, 13)"
            ]
          },
          "metadata": {},
          "execution_count": 42
        }
      ]
    },
    {
      "cell_type": "code",
      "metadata": {
        "colab": {
          "base_uri": "https://localhost:8080/",
          "height": 80
        },
        "id": "BKCq7TApPbFS",
        "outputId": "08c22cdd-f21b-449e-8032-0d4d06de4494"
      },
      "source": [
        "# this matches with the previous deducations\n",
        "df_conditions[df_conditions[\"ENCOUNTER\"]==\"e1ab4933-07a1-49f0-b4bd-05500919061d\"]"
      ],
      "execution_count": null,
      "outputs": [
        {
          "output_type": "execute_result",
          "data": {
            "text/html": [
              "<div>\n",
              "<style scoped>\n",
              "    .dataframe tbody tr th:only-of-type {\n",
              "        vertical-align: middle;\n",
              "    }\n",
              "\n",
              "    .dataframe tbody tr th {\n",
              "        vertical-align: top;\n",
              "    }\n",
              "\n",
              "    .dataframe thead th {\n",
              "        text-align: right;\n",
              "    }\n",
              "</style>\n",
              "<table border=\"1\" class=\"dataframe\">\n",
              "  <thead>\n",
              "    <tr style=\"text-align: right;\">\n",
              "      <th></th>\n",
              "      <th>START</th>\n",
              "      <th>STOP</th>\n",
              "      <th>PATIENT</th>\n",
              "      <th>ENCOUNTER</th>\n",
              "      <th>CODE</th>\n",
              "      <th>DESCRIPTION</th>\n",
              "    </tr>\n",
              "  </thead>\n",
              "  <tbody>\n",
              "    <tr>\n",
              "      <th>3</th>\n",
              "      <td>2011-05-13</td>\n",
              "      <td>2011-05-27</td>\n",
              "      <td>10339b10-3cd1-4ac3-ac13-ec26728cb592</td>\n",
              "      <td>e1ab4933-07a1-49f0-b4bd-05500919061d</td>\n",
              "      <td>10509002</td>\n",
              "      <td>Acute bronchitis (disorder)</td>\n",
              "    </tr>\n",
              "  </tbody>\n",
              "</table>\n",
              "</div>"
            ],
            "text/plain": [
              "        START        STOP  ...      CODE                  DESCRIPTION\n",
              "3  2011-05-13  2011-05-27  ...  10509002  Acute bronchitis (disorder)\n",
              "\n",
              "[1 rows x 6 columns]"
            ]
          },
          "metadata": {},
          "execution_count": 50
        }
      ]
    },
    {
      "cell_type": "markdown",
      "metadata": {
        "id": "vkavHBO0PMAm"
      },
      "source": [
        "# Patients.csv"
      ]
    },
    {
      "cell_type": "code",
      "metadata": {
        "id": "6na7tkBzHKAE",
        "colab": {
          "base_uri": "https://localhost:8080/",
          "height": 475
        },
        "outputId": "901a4a0d-8a3f-4087-94e7-0973c28f4e57"
      },
      "source": [
        "df_patient = pd.read_csv(\"/content/drive/MyDrive/csv/patients.csv\")\n",
        "df_patient.head()"
      ],
      "execution_count": null,
      "outputs": [
        {
          "output_type": "execute_result",
          "data": {
            "text/html": [
              "<div>\n",
              "<style scoped>\n",
              "    .dataframe tbody tr th:only-of-type {\n",
              "        vertical-align: middle;\n",
              "    }\n",
              "\n",
              "    .dataframe tbody tr th {\n",
              "        vertical-align: top;\n",
              "    }\n",
              "\n",
              "    .dataframe thead th {\n",
              "        text-align: right;\n",
              "    }\n",
              "</style>\n",
              "<table border=\"1\" class=\"dataframe\">\n",
              "  <thead>\n",
              "    <tr style=\"text-align: right;\">\n",
              "      <th></th>\n",
              "      <th>Id</th>\n",
              "      <th>BIRTHDATE</th>\n",
              "      <th>DEATHDATE</th>\n",
              "      <th>SSN</th>\n",
              "      <th>DRIVERS</th>\n",
              "      <th>PASSPORT</th>\n",
              "      <th>PREFIX</th>\n",
              "      <th>FIRST</th>\n",
              "      <th>LAST</th>\n",
              "      <th>SUFFIX</th>\n",
              "      <th>MAIDEN</th>\n",
              "      <th>MARITAL</th>\n",
              "      <th>RACE</th>\n",
              "      <th>ETHNICITY</th>\n",
              "      <th>GENDER</th>\n",
              "      <th>BIRTHPLACE</th>\n",
              "      <th>ADDRESS</th>\n",
              "      <th>CITY</th>\n",
              "      <th>STATE</th>\n",
              "      <th>COUNTY</th>\n",
              "      <th>ZIP</th>\n",
              "      <th>LAT</th>\n",
              "      <th>LON</th>\n",
              "      <th>HEALTHCARE_EXPENSES</th>\n",
              "      <th>HEALTHCARE_COVERAGE</th>\n",
              "    </tr>\n",
              "  </thead>\n",
              "  <tbody>\n",
              "    <tr>\n",
              "      <th>0</th>\n",
              "      <td>1d604da9-9a81-4ba9-80c2-de3375d59b40</td>\n",
              "      <td>1989-05-25</td>\n",
              "      <td>NaN</td>\n",
              "      <td>999-76-6866</td>\n",
              "      <td>S99984236</td>\n",
              "      <td>X19277260X</td>\n",
              "      <td>Mr.</td>\n",
              "      <td>José Eduardo181</td>\n",
              "      <td>Gómez206</td>\n",
              "      <td>NaN</td>\n",
              "      <td>NaN</td>\n",
              "      <td>M</td>\n",
              "      <td>white</td>\n",
              "      <td>hispanic</td>\n",
              "      <td>M</td>\n",
              "      <td>Marigot  Saint Andrew Parish  DM</td>\n",
              "      <td>427 Balistreri Way Unit 19</td>\n",
              "      <td>Chicopee</td>\n",
              "      <td>Massachusetts</td>\n",
              "      <td>Hampden County</td>\n",
              "      <td>1013.0</td>\n",
              "      <td>42.228354</td>\n",
              "      <td>-72.562951</td>\n",
              "      <td>271227.08</td>\n",
              "      <td>1334.88</td>\n",
              "    </tr>\n",
              "    <tr>\n",
              "      <th>1</th>\n",
              "      <td>034e9e3b-2def-4559-bb2a-7850888ae060</td>\n",
              "      <td>1983-11-14</td>\n",
              "      <td>NaN</td>\n",
              "      <td>999-73-5361</td>\n",
              "      <td>S99962402</td>\n",
              "      <td>X88275464X</td>\n",
              "      <td>Mr.</td>\n",
              "      <td>Milo271</td>\n",
              "      <td>Feil794</td>\n",
              "      <td>NaN</td>\n",
              "      <td>NaN</td>\n",
              "      <td>M</td>\n",
              "      <td>white</td>\n",
              "      <td>nonhispanic</td>\n",
              "      <td>M</td>\n",
              "      <td>Danvers  Massachusetts  US</td>\n",
              "      <td>422 Farrell Path Unit 69</td>\n",
              "      <td>Somerville</td>\n",
              "      <td>Massachusetts</td>\n",
              "      <td>Middlesex County</td>\n",
              "      <td>2143.0</td>\n",
              "      <td>42.360697</td>\n",
              "      <td>-71.126531</td>\n",
              "      <td>793946.01</td>\n",
              "      <td>3204.49</td>\n",
              "    </tr>\n",
              "    <tr>\n",
              "      <th>2</th>\n",
              "      <td>10339b10-3cd1-4ac3-ac13-ec26728cb592</td>\n",
              "      <td>1992-06-02</td>\n",
              "      <td>NaN</td>\n",
              "      <td>999-27-3385</td>\n",
              "      <td>S99972682</td>\n",
              "      <td>X73754411X</td>\n",
              "      <td>Mr.</td>\n",
              "      <td>Jayson808</td>\n",
              "      <td>Fadel536</td>\n",
              "      <td>NaN</td>\n",
              "      <td>NaN</td>\n",
              "      <td>M</td>\n",
              "      <td>white</td>\n",
              "      <td>nonhispanic</td>\n",
              "      <td>M</td>\n",
              "      <td>Springfield  Massachusetts  US</td>\n",
              "      <td>1056 Harris Lane Suite 70</td>\n",
              "      <td>Chicopee</td>\n",
              "      <td>Massachusetts</td>\n",
              "      <td>Hampden County</td>\n",
              "      <td>1020.0</td>\n",
              "      <td>42.181642</td>\n",
              "      <td>-72.608842</td>\n",
              "      <td>574111.90</td>\n",
              "      <td>2606.40</td>\n",
              "    </tr>\n",
              "    <tr>\n",
              "      <th>3</th>\n",
              "      <td>8d4c4326-e9de-4f45-9a4c-f8c36bff89ae</td>\n",
              "      <td>1978-05-27</td>\n",
              "      <td>NaN</td>\n",
              "      <td>999-85-4926</td>\n",
              "      <td>S99974448</td>\n",
              "      <td>X40915583X</td>\n",
              "      <td>Mrs.</td>\n",
              "      <td>Mariana775</td>\n",
              "      <td>Rutherford999</td>\n",
              "      <td>NaN</td>\n",
              "      <td>Williamson769</td>\n",
              "      <td>M</td>\n",
              "      <td>white</td>\n",
              "      <td>nonhispanic</td>\n",
              "      <td>F</td>\n",
              "      <td>Yarmouth  Massachusetts  US</td>\n",
              "      <td>999 Kuhn Forge</td>\n",
              "      <td>Lowell</td>\n",
              "      <td>Massachusetts</td>\n",
              "      <td>Middlesex County</td>\n",
              "      <td>1851.0</td>\n",
              "      <td>42.636143</td>\n",
              "      <td>-71.343255</td>\n",
              "      <td>935630.30</td>\n",
              "      <td>8756.19</td>\n",
              "    </tr>\n",
              "    <tr>\n",
              "      <th>4</th>\n",
              "      <td>f5dcd418-09fe-4a2f-baa0-3da800bd8c3a</td>\n",
              "      <td>1996-10-18</td>\n",
              "      <td>NaN</td>\n",
              "      <td>999-60-7372</td>\n",
              "      <td>S99915787</td>\n",
              "      <td>X86772962X</td>\n",
              "      <td>Mr.</td>\n",
              "      <td>Gregorio366</td>\n",
              "      <td>Auer97</td>\n",
              "      <td>NaN</td>\n",
              "      <td>NaN</td>\n",
              "      <td>NaN</td>\n",
              "      <td>white</td>\n",
              "      <td>nonhispanic</td>\n",
              "      <td>M</td>\n",
              "      <td>Patras  Achaea  GR</td>\n",
              "      <td>1050 Lindgren Extension Apt 38</td>\n",
              "      <td>Boston</td>\n",
              "      <td>Massachusetts</td>\n",
              "      <td>Suffolk County</td>\n",
              "      <td>2135.0</td>\n",
              "      <td>42.352434</td>\n",
              "      <td>-71.028610</td>\n",
              "      <td>598763.07</td>\n",
              "      <td>3772.20</td>\n",
              "    </tr>\n",
              "  </tbody>\n",
              "</table>\n",
              "</div>"
            ],
            "text/plain": [
              "                                     Id  ... HEALTHCARE_COVERAGE\n",
              "0  1d604da9-9a81-4ba9-80c2-de3375d59b40  ...             1334.88\n",
              "1  034e9e3b-2def-4559-bb2a-7850888ae060  ...             3204.49\n",
              "2  10339b10-3cd1-4ac3-ac13-ec26728cb592  ...             2606.40\n",
              "3  8d4c4326-e9de-4f45-9a4c-f8c36bff89ae  ...             8756.19\n",
              "4  f5dcd418-09fe-4a2f-baa0-3da800bd8c3a  ...             3772.20\n",
              "\n",
              "[5 rows x 25 columns]"
            ]
          },
          "metadata": {},
          "execution_count": 51
        }
      ]
    },
    {
      "cell_type": "code",
      "metadata": {
        "colab": {
          "base_uri": "https://localhost:8080/"
        },
        "id": "V_XQFx3LQoGl",
        "outputId": "fb3826a8-dc3d-4578-8377-f4fe936e791c"
      },
      "source": [
        "df_patient[\"RACE\"].unique()"
      ],
      "execution_count": null,
      "outputs": [
        {
          "output_type": "execute_result",
          "data": {
            "text/plain": [
              "array(['white', 'native', 'asian', 'black', 'other'], dtype=object)"
            ]
          },
          "metadata": {},
          "execution_count": 58
        }
      ]
    },
    {
      "cell_type": "code",
      "metadata": {
        "id": "6hicMmzLUqLs"
      },
      "source": [
        ""
      ],
      "execution_count": null,
      "outputs": []
    }
  ]
}